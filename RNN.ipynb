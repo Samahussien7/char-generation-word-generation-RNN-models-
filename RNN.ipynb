{
  "cells": [
    {
      "cell_type": "code",
      "execution_count": null,
      "metadata": {
        "colab": {
          "base_uri": "https://localhost:8080/"
        },
        "id": "rGe7AMdvon7w",
        "outputId": "6f4e92ac-c55a-4e13-eded-95abbad9003e"
      },
      "outputs": [
        {
          "output_type": "stream",
          "name": "stdout",
          "text": [
            "Collecting wikipedia\n",
            "  Downloading wikipedia-1.4.0.tar.gz (27 kB)\n",
            "  Preparing metadata (setup.py) ... \u001b[?25l\u001b[?25hdone\n",
            "Requirement already satisfied: beautifulsoup4 in /usr/local/lib/python3.10/dist-packages (from wikipedia) (4.12.3)\n",
            "Requirement already satisfied: requests<3.0.0,>=2.0.0 in /usr/local/lib/python3.10/dist-packages (from wikipedia) (2.31.0)\n",
            "Requirement already satisfied: charset-normalizer<4,>=2 in /usr/local/lib/python3.10/dist-packages (from requests<3.0.0,>=2.0.0->wikipedia) (3.3.2)\n",
            "Requirement already satisfied: idna<4,>=2.5 in /usr/local/lib/python3.10/dist-packages (from requests<3.0.0,>=2.0.0->wikipedia) (3.7)\n",
            "Requirement already satisfied: urllib3<3,>=1.21.1 in /usr/local/lib/python3.10/dist-packages (from requests<3.0.0,>=2.0.0->wikipedia) (2.0.7)\n",
            "Requirement already satisfied: certifi>=2017.4.17 in /usr/local/lib/python3.10/dist-packages (from requests<3.0.0,>=2.0.0->wikipedia) (2024.2.2)\n",
            "Requirement already satisfied: soupsieve>1.2 in /usr/local/lib/python3.10/dist-packages (from beautifulsoup4->wikipedia) (2.5)\n",
            "Building wheels for collected packages: wikipedia\n",
            "  Building wheel for wikipedia (setup.py) ... \u001b[?25l\u001b[?25hdone\n",
            "  Created wheel for wikipedia: filename=wikipedia-1.4.0-py3-none-any.whl size=11680 sha256=6ec4cf4dd5e36681d3d7d9ab5ff13cef15b68036c25f767203fb732336042e24\n",
            "  Stored in directory: /root/.cache/pip/wheels/5e/b6/c5/93f3dec388ae76edc830cb42901bb0232504dfc0df02fc50de\n",
            "Successfully built wikipedia\n",
            "Installing collected packages: wikipedia\n",
            "Successfully installed wikipedia-1.4.0\n"
          ]
        },
        {
          "output_type": "stream",
          "name": "stderr",
          "text": [
            "[nltk_data] Downloading package wordnet to /root/nltk_data...\n",
            "[nltk_data] Downloading package punkt to /root/nltk_data...\n",
            "[nltk_data]   Unzipping tokenizers/punkt.zip.\n",
            "[nltk_data] Downloading package stopwords to /root/nltk_data...\n",
            "[nltk_data]   Unzipping corpora/stopwords.zip.\n"
          ]
        },
        {
          "output_type": "execute_result",
          "data": {
            "text/plain": [
              "True"
            ]
          },
          "metadata": {},
          "execution_count": 2
        }
      ],
      "source": [
        "!pip install wikipedia\n",
        "import nltk\n",
        "nltk.download('wordnet')\n",
        "import nltk\n",
        "nltk.download('punkt')\n",
        "import nltk\n",
        "nltk.download('stopwords')"
      ]
    },
    {
      "cell_type": "code",
      "source": [
        "!pip install reportlab"
      ],
      "metadata": {
        "colab": {
          "base_uri": "https://localhost:8080/"
        },
        "id": "H_dwR-BtkeWZ",
        "outputId": "afa730d7-9f3d-4cac-ff5d-13ed271b797d"
      },
      "execution_count": null,
      "outputs": [
        {
          "output_type": "stream",
          "name": "stdout",
          "text": [
            "Collecting reportlab\n",
            "  Downloading reportlab-4.2.0-py3-none-any.whl (1.9 MB)\n",
            "\u001b[?25l     \u001b[90m━━━━━━━━━━━━━━━━━━━━━━━━━━━━━━━━━━━━━━━━\u001b[0m \u001b[32m0.0/1.9 MB\u001b[0m \u001b[31m?\u001b[0m eta \u001b[36m-:--:--\u001b[0m\r\u001b[2K     \u001b[91m━━━━━━\u001b[0m\u001b[90m╺\u001b[0m\u001b[90m━━━━━━━━━━━━━━━━━━━━━━━━━━━━━━━━━\u001b[0m \u001b[32m0.3/1.9 MB\u001b[0m \u001b[31m9.0 MB/s\u001b[0m eta \u001b[36m0:00:01\u001b[0m\r\u001b[2K     \u001b[90m━━━━━━━━━━━━━━━━━━━━━━━━━━━━━━━━━━━━━━━━\u001b[0m \u001b[32m1.9/1.9 MB\u001b[0m \u001b[31m30.5 MB/s\u001b[0m eta \u001b[36m0:00:00\u001b[0m\n",
            "\u001b[?25hRequirement already satisfied: pillow>=9.0.0 in /usr/local/lib/python3.10/dist-packages (from reportlab) (9.4.0)\n",
            "Requirement already satisfied: chardet in /usr/local/lib/python3.10/dist-packages (from reportlab) (5.2.0)\n",
            "Installing collected packages: reportlab\n",
            "Successfully installed reportlab-4.2.0\n"
          ]
        }
      ]
    },
    {
      "cell_type": "code",
      "source": [
        "!pip install nltk"
      ],
      "metadata": {
        "colab": {
          "base_uri": "https://localhost:8080/"
        },
        "id": "ts5LrH_FitF5",
        "outputId": "3b02aaf6-90f1-409b-e6a6-a2ddf56025b3"
      },
      "execution_count": null,
      "outputs": [
        {
          "output_type": "stream",
          "name": "stdout",
          "text": [
            "Requirement already satisfied: nltk in /usr/local/lib/python3.10/dist-packages (3.8.1)\n",
            "Requirement already satisfied: click in /usr/local/lib/python3.10/dist-packages (from nltk) (8.1.7)\n",
            "Requirement already satisfied: joblib in /usr/local/lib/python3.10/dist-packages (from nltk) (1.4.2)\n",
            "Requirement already satisfied: regex>=2021.8.3 in /usr/local/lib/python3.10/dist-packages (from nltk) (2023.12.25)\n",
            "Requirement already satisfied: tqdm in /usr/local/lib/python3.10/dist-packages (from nltk) (4.66.4)\n"
          ]
        }
      ]
    },
    {
      "cell_type": "markdown",
      "metadata": {
        "id": "ZQbj-Imlm4sD"
      },
      "source": [
        "# processing text"
      ]
    },
    {
      "cell_type": "code",
      "source": [
        "import re\n",
        "import wikipedia\n",
        "from nltk.tokenize import word_tokenize\n",
        "from nltk.corpus import stopwords\n",
        "from nltk.stem import WordNetLemmatizer\n",
        "\n",
        "# Initialize WordNetLemmatizer and stopwords\n",
        "lemmatizer = WordNetLemmatizer()\n",
        "en_stop = set(stopwords.words('english'))\n",
        "\n",
        "# Define the process_text function\n",
        "def process_text(document):\n",
        "    document = re.sub(r'\\s+', ' ', document, flags=re.I)  # Remove extra white space from text\n",
        "    document = re.sub(r'[^a-zA-Z\\s]', '', document)  # Remove all non-alphanumeric characters from text\n",
        "    document = re.sub(r'\\s+[a-zA-Z]\\s+', ' ', document)  # Remove all single characters from text\n",
        "    document = document.lower()  # Converting to Lowercase\n",
        "    # Word tokenization\n",
        "    tokens = word_tokenize(document)\n",
        "    lemma_txt = [lemmatizer.lemmatize(word) for word in tokens]\n",
        "    lemma_no_stop_txt = [word for word in lemma_txt if word not in en_stop]\n",
        "    # Drop words\n",
        "    tokens = [word for word in lemma_no_stop_txt if len(word) > 3]\n",
        "    clean_txt = ' '.join(tokens)\n",
        "    return clean_txt\n",
        "\n",
        "# Get summaries of multiple Wikipedia pages\n",
        "#topics = [\"Indian cuisine\", \"Pakistani cuisine\", \"Bangladeshi cuisine\"]\n",
        "topics = [\"Video game\", \"Board game\", \"Role-playing game\"]\n",
        "\n",
        "#topic_summaries = [wikipedia.summary(topic, sentences=100) for topic in topics]\n",
        "topic_summaries = [wikipedia.page(topic).content for topic in topics]\n",
        "\n",
        "# Process and print the text for each summary\n",
        "for i, summary in enumerate(topic_summaries):\n",
        "    processed_text = process_text(summary)\n",
        "    print(\"\\nProcessed Text:\")\n",
        "    print(processed_text)\n",
        "\n",
        "# Combine all processed text into one corpus\n",
        "corpus = ' '.join([process_text(text) for text in topic_summaries])"
      ],
      "metadata": {
        "colab": {
          "base_uri": "https://localhost:8080/"
        },
        "id": "3wqG3ifidUZe",
        "outputId": "2cf12d7e-9699-439b-f5f5-29b2b3457bd0"
      },
      "execution_count": null,
      "outputs": [
        {
          "output_type": "stream",
          "name": "stdout",
          "text": [
            "\n",
            "Processed Text:\n",
            "video game computer game electronic game involves interaction user interface input device joystick controller keyboard motion sensing device generate visual feedback display device commonly shown video format television computer monitor flatpanel display touchscreen handheld device virtual reality headset modern video game audiovisual audio complement delivered speaker headphone sometimes also type sensory feedback haptic technology provides tactile sensation video game also allow microphone webcam input ingame chatting livestreaming video game typically categorized according hardware platform traditionally includes arcade video game console game computer game latter also encompasses game online game browser game recently video game industry expanded onto mobile gaming mobile device smartphones tablet computer virtual augmented reality system remote cloud gaming video game also classified wide range genre based style gameplay target audience first video game prototype simple extension electronic game using videolike output large roomsized mainframe computer first consumer video game arcade video game computer space came iconic game pong first home console magnavox odyssey industry grew quickly golden arcade video game late early suffered crash north american video game market loss publishing control saturation market following crash industry matured dominated japanese company nintendo sega sony established practice method around development distribution video game prevent similar crash future many continue followed core industry centered game leaving little room riskier experimental game coupled availability internet digital distribution gave room independent video game development indie game gain prominence since commercial importance video game industry increasing emerging asian market proliferation smartphone game particular altering player demographic towards casual gaming increasing monetization incorporating game service today video game development requires numerous interdisciplinary skill vision teamwork liaison different party including developer publisher distributor retailer hardware manufacturer marketer successfully bring game consumer global video game market estimated annual revenue billion across hardware software service three time size global music industry four time film industry making formidable heavyweight across modern entertainment industry video game market also major influence behind electronics industry personal computer component console peripheral sale well consumer demand better game performance powerful driving factor hardware design innovation origin early video game interactive electronic device various display format earliest example cathoderay tube amusement device filed patent january thomas goldsmith estle mann issued december patent inspired radar display technology consists analog device allowing user control parabolic screen simulate missile fired target paper drawing fixed screen early example include christopher strachey draught game nimrod computer festival britain tictactoe computer game alexander douglas edsac tennis electronic interactive game engineered william higinbotham spacewar written massachusetts institute technology student martin graetz steve russell wayne wiitanens computer game different mean display nimrod panel light play game graphical display play tictactoe tennis oscilloscope display side view tennis court spacewar pdps vector display spaceship battle preliminary invention paved origin video game today ralph baer working sander associate devised control system play rudimentary game table tennis television screen company approval baer built prototype brown sander patented baers invention licensed magnavox commercialized first home video game console magnavox odyssey released separately nolan bushnell dabney inspired seeing spacewar running stanford university devised similar version running smaller coinoperated arcade cabinet using expensive computer released computer space first arcade video game bushnell dabney went form atari allan alcorn created second arcade game ping pongstyle pong directly inspired table tennis game odyssey sander magnavox sued atari infringement baers patent atari settled court paying perpetual right patent following agreement atari made home version pong released christmas success odyssey pong arcade game home machine launched video game industry baer bushnell titled father video game contribution terminology term video game developed distinguish class electronic game played type video display rather teletype printer audio speaker similar device also distinguished many handheld electronic game like merlin commonly used light indicator combination imaging purpose computer game also used descriptor type game essentially require computer processor case used interchangeably video game particularly united kingdom western europe common historic relevance domestically produced microcomputer term used include digital game example australian bureau statistic however term computer game also used specifically refer game played primarily personal computer type flexible hardware system also known game distinguish console game arcade game mobile game term television game telegame used early particularly home gaming console rely connection television japan console like odyssey first imported made within country large television manufacturer toshiba sharp corporation game known game geemu terebi geemu electronic game also used refer video game also incorporates device like early handheld electronic game lack video output term game still commonly used century first appearance term video game emerged around oxford english dictionary cited november businessweek article first printed term though bushnell believed term came vending magazine review computer space review major vending magazine vending time cashbox showed term came much earlier appearing first around march magazine mass usage including arcade game manufacturer analyzed video game historian keith smith sudden appearance suggested term proposed readily adopted involved appeared trace adlum cashbox coinoperated section later founded replay magazine covering coinop amusement field september issue replay adlum credited first naming game video game replay eddie adlum worked cash game first came personality bushnell sale manager karns handful game manufacturer like henry leyser mcewan brother seemed awkward call product game borrowing word billboard description movie jukebox adlum started refer breed amusement machine video game phrase stuck adlum explained early amusement arcade typically nonvideo arcade game pinball machine electromechanical game arrival video game arcade early initially confusion arcade industry term used describe game wrestled description type game alternating game television game finally woke said hell video game many year traveling videotopia exhibit served closest representation vital resource addition collecting home video game console electronics conservancy organization locate restore antique arcade cabinet realizing majority game destroyed feared loss historical significance video game significantly began seen realworld purpose present history understanding methodology term compared researcher looked historical representation affect public perceives past digital humanist encourage historian video game primary material video game considering past time progressed video game really mean whether played monitor handheld device many video game displayed user enjoy people drawn comparison flowstateengaged video gamers pupil conventional school setting traditional teacherled classroom student little learn passive consumer information selected teacher required follow pace skill level group group teaching receive brief imprecise normative feedback work video game continue develop better graphic definition genre create terminology something unknown tends become known yearly console created compete brand similar functioning feature tends lead consumer theyd like purchase company moved towards game specific console play grasp consumer purchasing product compared video game first began little variety console begun nintendo biggest gaming target sega brand master system failed compete allowing nintendo emulator system consumed product world technology continued created computer began used people house office daily game began implemented computer progressively grown since coded robot play early game like tictactoe solitaire tennis great bring gaming another system rather specifically meant gaming definition many game readily fall clear wellunderstood definition video game genre innovation game development raised question essential factor video game separate medium form entertainment introduction interactive film game like dragon lair featured game full motion video played form medium limited user interaction required mean distinguish game traditional board game happen also external medium clue mystery game required player watch clip turn distinguish video game considered require interactivity affect visual display video game tend feature type victory winning condition scoring mechanism final fight introduction walking simulator adventure game allow exploration lack objective like gone home empathy game video game tend focus emotion like dragon cancer brought idea game type winning condition raising question whether actually game still commonly justified video game provide game world player interact mean lack industry definition video game issue case epic game apple dealt video game offered apple store among concern raised game like fortnite creative roblox created metaverses interactive experience whether larger game individual experience game relation apple charged store judge yvonne gonzalez rogers recognizing industry standard definition video game established ruling bare minimum videogames appear require level interactivity involvement player medium compared passive entertainment like film music television videogames also generally graphically rendered animated opposed recorded live motion capture film television rogers still concluded video game appears highly eclectic diverse video game terminology gameplay experience varies radically video game many common element exist game launch title screen give player chance review option number player starting game game divided level player must work avatar scoring point collecting powerups boost avatar innate attribute either using special attack defeat enemy move avoid information relayed player type onscreen user interface headsup display atop rendering game taking damage deplete avatar health fall zero avatar otherwise fall impossibletoescape location player lose life lose life without gaining extra life player reach game screen many level well game finale type character player must defeat continue game intermediate point level offer save point player create saved game storage medium restart game lose life need stop game restart later time also form passage written reentered title screen product flaw include software manifest glitch exploited player often foundation speedrunning video game along cheat code easter hidden secret intentionally added game also exploited console cheat cartridge allow player execute cheat code userdeveloped trainer allow similar bypassing computer software game might make game easier give player additional powerups change appearance game component distinguish electronic game video game generally considered require platform hardware contains computing element process player interaction type input device display result video output display platform video game require platform specific combination electronic component computer hardware associated software operate term system also commonly used platform include multiple brandsheld platform holder nintendo sony seeking gain larger market share game typically designed played limited number platform exclusivity platform brand used platform holder competitive edge video game market however game developed alternative platform intended described port conversion also remasters original game source code reused asset model game level updated modern system remake addition asset improvement significant reworking original game possibly scratch performed list exhaustive excludes electronic device capable playing video game graphing calculator game game involve player interacting personal computer connected video monitor personal computer dedicated game platform difference running game different hardware also openness allows feature developer like reduced software cost increased flexibility increased innovation emulation creation modification open hosting online gaming person play video game people different household others gaming computer laptop intended specifically gaming typically using highperformance highcost component additional personal computer gaming also exist game work mainframe computer similarly shared system user logging remotely computer home console console game played home console specialized electronic device connects common television composite video monitor home console specifically designed play game using dedicated hardware environment giving developer concrete hardware target development assurance feature available simplifying development compared game development usually console game developed game platform made company never game developed direct competitor even game available different platform often come specific game controller major console platform include xbox playstation nintendo handheld console handheld game console small selfcontained electronic device portable held user hand feature console small screen speaker button joystick game controller single unit like console handhelds dedicated platform share almost characteristic handheld hardware usually powerful console hardware handheld game late early could play game number handheld game used cartridge enabled used play many different game handheld console waned mobile device gaming become dominant factor arcade video game arcade video game generally refers game played even specialized type electronic device typically designed play game encased special large coinoperated cabinet builtin console controller joystick button screen audio amplifier speaker arcade game often brightly painted logo image relating theme game arcade game housed vertical cabinet user typically stand front play arcade game tabletop approach display screen housed tablestyle cabinet seethrough table tabletop game user typically play arcade game offered player choice multiple game video arcade business game player could number arcade video game fewer video arcade movie theater family entertainment center still browser game browser game take advantage standardization technology functionality browser across multiple device providing crossplatform environment game identified based website appear miniclip game others named based programming platform used develop java flash game mobile game introduction smartphones tablet computer standardized android operating system mobile gaming become significant platform game unique feature mobile device necessary present platform accelerometer global positing information camera device support augmented reality gameplay cloud gaming cloud gaming requires minimal hardware device basic computer console laptop mobile phone even dedicated hardware device connected display good internet connectivity connects hardware system cloud gaming provider game computed rendered remote hardware using number predictive method reduce network latency player input output display device example xbox cloud gaming playstation platform dedicated custom server blade hardware cloud computing center virtual reality virtual reality game generally require player special headmounted unit provides stereoscopic screen motion tracking immerse player within virtual environment responds head movement system include control unit player hand provide direct interact virtual world system generally require separate computer console processing device couple headmounted unit emulation emulator enables game console otherwise different system type virtual machine modern system simulating hardware original allows game played emulator found legal united state case obtaining game software already violate copyright however official release emulated software game manufacturer nintendo virtual console nintendo switch online offering backward compatibility backward compatibility similar nature emulation older game played newer platform typically directly though hardware buildin software within platform playstation popularized trend capability playing past generation game playstation simply inserting original game medium newer console nintendos could play gamecube title well manner game medium early arcade game home console handheld game dedicated hardware unit game logic built electronic componentry hardware since video game platform considered programmable mean read play multiple game distributed different type medium format physical format include cartridge magnetic storage including magnetictape data storage floppy disc optical medium format including cdrom flash memory card furthermore digital distribution internet communication method well cloud gaming alleviate need physical medium case medium serf direct readonly memory game form installation medium used write main asset player platform local storage faster loading period later update game extended content software patch either expansion pack typically available physical medium downloadable content nominally available digital distribution offered freely used monetize game following initial release several game offer player ability create usergenerated content share others play game mostly personal computer extended usercreated modification alter onto game often unofficial developed player reverse engineering game game provide official support modding game input device video game several type input device translate human action game common game controller like gamepads joystick console accessory personal computer system along keyboard mouse control common control recent controller include face button shoulder trigger analog stick directional dpads console typically include standard controller shipped bundled console peripheral controller available separate purchase console manufacturer thirdparty vendor similar control built handheld console onto arcade cabinet newer technology improvement incorporated additional technology controller game platform touchscreen motion detection sensor give option player interacts game specialized controller used certain genre game including racing wheel light dance digital camera motion detection capture movement player input game case effectively eliminate control system virtual reality used enhance immersion game display output definition video game intended output graphic external video display cathoderay tube television newer liquidcrystal display television builtin screen projector computer monitor depending type platform game played feature color depth refresh rate frame rate screen resolution combination limitation game platform display device program efficiency game game output range fixed display using element textbased game twodimensional threedimensional graphic augmented reality display game graphic often accompanied sound produced internal speaker game platform external speaker attached platform directed game programming often include sound effect tied player action provide audio feedback well background music game platform support additional feedback mechanic player game take advantage commonly haptic technology built game controller causing controller shake player hand simulate shaking earthquake occurring game classification video game frequently classified number factor related play genre video game like form medium categorized genre however unlike film television visual narrative element video game generally categorized genre based gameplay interaction since primary mean interacts video game narrative setting impact gameplay shooter game still shooter game regardless whether take place fantasy world outer space exception horror game genre used game based narrative element horror fiction supernatural psychological horror genre name normally selfdescribing term type gameplay action game role playing game shoot though genre derivation influential work defined genre roguelikes rogue grand theft auto clone grand theft auto battle royale game film battle royale name shift time player developer medium come term example firstperson shooter originally called doom clone based game hierarchy game genre exist toplevel genre like shooter game action game broadly capture game main gameplay style several subgenres specific implementation within shooter game firstperson shooter thirdperson shooter crossgenre type also exist fall multiple toplevel genre actionadventure game mode video game mode describes many player game type primarily distinguished singleplayer video game multiplayer video game within latter category multiplayer game played variety including locally device separate device connected local network party online separate internet connection multiplayer game based competitive gameplay many offer cooperative teambased option well asymmetric gameplay online game server structure also enable massively multiplayer online game mmos support hundred player time small number video game zeroplayer game player limited interaction game commonly simulation game player establish starting state game proceed watching result passive observer many computerized simulation conways game life type video game intended entertainment purpose different game type include core game core hardcore game refer typical perception video game developed entertainment purpose game typically require fair amount time learn master contrast casual game thus appealing gamers rather broader audience video game industry based around delivery core game casual game contrast core game casual game designed ease accessibility simple understand gameplay quick grasp rule aimed mass market audience frequently support ability jump play demand commuting lunch break numerous browser mobile game fall casual game area casual game often genre intensity game element match three hidden object time management puzzle game causal game frequently socialnetwork game mechanic player enlist help friend social medium network extra turn move popular casual game include tetri candy crush saga recent starting late hypercasual game even simplistic rule short infinitely replayable game flappy bird educational game education software used home classroom help teach child student video game similarly adapted reason designed provide form interactivity entertainment tied game design element variety difference design educate user broadly split edutainment game tend focus entertainment value rote learning unlikely engage critical thinking educational video game geared towards problem solving motivation positive reinforcement downplaying entertainment value example educational game include oregon trail carmen sandiego series game initially developed educational purpose found classroom release feature open world virtual sandbox like minecraft offer critical thinking skill puzzle video game like spacechem serious game extending educational game serious game entertainment factor augmented overshadowed even eliminated purpose game game design used reinforce nonentertainment purpose game using video game technology game interactive world gamification reinforcement training educational game form serious game type game include fitness game incorporate significant physical exercise help keep player simulator game resemble flight simulator pilot aircraft microsoft flight simulator advergames built around advertising product pepsiman newsgames aimed conveying specific advocacy message narcoguerra game although video game considered form game developed purposely communicate story message using medium work arthouse game designed generate emotion empathy player challenging societal norm offering critique interactivity video game medium type condition designed player explore game world scenario game indie game nature designed based personal experience story single developer small team example game include passage flower dragon cancer content rating video game subject national international content rating requirement like film content rating video game rating typing identify target group national regional rating board belief appropriate player ranging allages teenagerorolder mature infrequent adultonly game content review based level violence type violence graphic represented sexual content theme drug alcohol gambling influence child also identified primary identifier based minimum used nearly system along additional descriptor identify specific content player parent aware regulation vary country country generally voluntary system upheld vendor practice penalty fine issued rating body video game publisher misuse rating among major content rating system include entertainment software rating board esrb oversees game released united state esrb rating voluntary rated along everyone everyone older teen mature adult attempt mandate video game rating subsequently landmark supreme court case brown entertainment merchant association ruled video game protected form victory video game industry european game information pegi covering united kingdom european union european country replacing previous nationalbased system pegi system content rated based minimum recommended include australian classification board oversees rating game work australia using rating general parental guidance mature mature accompanied restricted restricted pornographic material also deny give rating game refused classification acbs rating enforceable importantly game imported purchased digitally australia failed gain rating given rating leading number notable banned game computer entertainment rating organization cero rate game japan rating include older additionally major content system provides worked create international rating coalition iarc mean streamline align content rating system different region publisher would need complete content rating review provider iarc transition affirm content rating region certain nation even restrictive rule related political ideological content within germany unterhaltungssoftware selbstkontrolle entertainment software selfregulation would refuse classify thus allow sale game depicting nazi imagery thus often requiring developer replace imagery fictional ruling relaxed allow imagery social adequacy purpose applied work china video game segment mostly isolated rest world government censorship game published must adhere strict government review disallowing content smearing image chinese communist party foreign game published china often require modification developer publisher meet requirement development video game development authorship much like form entertainment frequently crossdisciplinary field video game developer employee within industry commonly referred primarily include programmer graphic designer year expanded include almost every type skill might prevalent creation movie television program including sound designer musician technician well skill specific video game game designer managed producer early industry common single person manage role needed create video game platform become complex powerful type material present larger team needed generate programming cinematography oneman shop gone still sometimes found casual gaming handheld market smaller game prevalent technical limitation limited lack dedicated graphic rendering capability target platform video game programmed like piece computer software prior mids arcade home console programmed assembling discrete electromechanical component circuit board limited game relatively simple logic lowcost microprocessor available volume used video game hardware allowed game developer program detailed game widening scope possible ongoing improvement computer hardware technology expanded become possible create video game coupled convergence common hardware console computer arcade platform simplify development process today game developer number commercial open source tool available make game often across multiple platform support portability still create specialized feature direct control game today many game built around game engine handle bulk game logic gameplay rendering engine augmented specialized engine specific feature physic engine simulates physic object realtime variety middleware exists help developer access feature playback video within game networkoriented code game communicate online service matchmaking online game similar feature feature used developer programming language choice also game development minimize amount direct programming also limit amount customization game like software video game usually undergo quality testing release assure glitch product though frequently developer release patch update growth size development team industry problem cost increased development studio need best talent publisher reduce cost maintain profitability investment typically video game console development team range people exceed assassin creed reported development staff growth team size combined greater pressure completed project market begin recouping production cost greater occurrence missed deadline rushed game release unfinished product amateur hobbyist game programming existed since late introduction home computer newer trend since mids indie game development indie game made small team outside direct publisher control game smaller scope larger game studio often experiment gameplay style indie game development aided larger availability digital distribution including newer mobile gaming marker readilyavailable lowcost development tool platform game theory study although department computer science studying technical aspect video game year theory examine game artistic medium relatively recent development humanity visible school emerging field ludology narratology narrativists approach video game context janet murray call cyberdrama major concern video game storytelling medium arises interactive fiction murray video game context holodeck fictional piece technology star trek arguing video game medium player allowed become another person another world image video game received early widespread popular support form basis film tron existenz last starfighter ludologists break sharply radically idea argue video game first foremost game must understood term rule interface concept play deploys espen aarseth argues although game certainly plot character aspect traditional narrative aspect incidental gameplay example aarseth critical widespread attention narrativists given heroine game tomb raider saying dimension lara croft body already analyzed death film theorist irrelevant player differentlooking body would make play differently play dont even body past simply ludologists reject traditional theory claim artistic socially relevant quality video game primarily determined underlying rule demand expectation imposed player many game rely emergent principle video game commonly present simulated story world emergent behavior occurs within context game term emergent narrative used describe simulated environment storyline created simply happens player however emergent behavior limited sophisticated game general place eventdriven instruction occur game emergent behavior exist instance take racing game programmed avoid crashing encounter obstacle track might maneuver avoid obstacle causing behind slow maneuver accommodate front obstacle programmer never wrote code specifically create traffic exists game intellectual property video game commonly video game protected copyright though patent trademark used well though local copyright regulation vary degree protection video game qualify copyrighted visualaudio work enjoy crosscountry protection berne convention typically applies underlying code well artistic aspect game writing asset music gameplay generally considered copyrightable united state among country video game considered fall ideaexpression distinction game presented expressed player copyrighted underlying principle game gameplay normally ineligible copyright gameplay idea popular game often replicated built upon game time repurposing gameplay seen beneficial fundamental part industry grown building idea others example doom grand theft auto introduced gameplay created popular game genre firstperson shooter grand theft auto clone respectively year release however time frequently onset industry developer would intentionally create video game clone successful game game hardware change flooded arcade dedicated home console market around cloning also major issue country strong intellectual property protection within china oversight china government difficulty foreign company take chinese entity court enabled china support large grey market cloned hardware software system industry remains challenged distinguish creating game based refinement past successful game create type gameplay intentionally creating clone game simply swap asset industry history early history video game industry following first game hardware release little structure video game quickly took golden arcade video game late early newfound industry mainly composed game developer little business experience numerous company forming simply create clone popular game capitalize market loss publishing control oversaturation market north american home video game market crashed dropping revenue around billion million many north american company created prior year closed japan growing game industry briefly shocked crash sufficient longevity withstand shortterm effect nintendo helped revitalize industry release nintendo entertainment system north america along nintendo established number core industrial practice prevent unlicensed game development control game distribution platform method continue used console manufacturer today industry remained conservative following crash forming around concept publisherdeveloper dichotomy leading industry centralizing around lowrisk triplea game studio large development budget least million advent internet brought digital distribution viable mean distribute game contributed growth riskier experimental independent game development alternative triplea game late continued grow significant portion video game industry industry role video game large network effect draw many different sector larger video game industry video game developer significant portion industry participant market include publisher company generally oversee bringing game developer market often includes performing marketing public relation advertising game publisher frequently developer ahead time make game involved critical decision direction game progress developer additional royalty bonus based sale performance smaller boutique publisher simply offer perform publishing game small portion sale otherwise leave developer creative freedom proceed range publisherdeveloper relationship exist point distributor publisher often able produce game medium take role distributor also thirdparty distributor massproduce game medium distribute retailer digital storefront like steam store also serve distributor retailer digital space retailer physical storefront include large online retailer department electronic store specialty video game store sell game console accessory consumer also including tradein market certain region allowing player turn used game partial refund credit towards game however uprising digital marketplace ecommerce revolution retailer performing worse past hardware manufacturer video game console manufacturer produce console hardware often value chain system include numerous component supplier contract manufacturer assemble console console manufacturer typically require license develop platform control production game nintendo game cartridge system exchange manufacturer help promote game system seek console exclusivity certain game game personal computer number manufacturer devoted highperformance gaming computer hardware particularly graphic card area several company overlap component supply console range thirdparty manufacturer also exist provide equipment gear console postsale additional controller console carrying case gear handheld device journalism journalism around video game used primarily printbased focused postrelease review gameplay strategy internet brought proactive press journalism covering game month prior release well beyond helping build excitement game ahead release influencers rising importance social medium video game company found opinion influencers using streaming medium play game significant impact game sale turned influencers alongside traditional journalism mean build attention game release esports esports major function several multiplayer game numerous professional league established since large viewership number particularly southeast asia since trade advocacy group trade group like entertainment software association established provide common voice industry response governmental advocacy concern frequently major trade event convention industry gamers proactive hobbyist player consumer video game representation industry primarily seen game sale many company follow gamers comment social medium user review engage work improve product addition feedback part industry demographic larger player community also impact part market dominated younger market shifted mids towards woman older player generally preferred mobile causal game leading growth sector major regional market industry grew united state japan larger worldwide contribution today video game industry predominantly major company north america primarily united state canada europe southeast asia including japan south korea china hardware production remains area dominated asian company either directly involved hardware design part production process digital distribution indie game development late allowed game developer flourish nearly anywhere diversify field game sale according market research firm newzoo global video game industry drew estimated revenue billion mobile game accounted bulk share market followed console game personal computer game sale different type game vary widely country local preference japanese consumer tend purchase much handheld game console game especially game strong preference game catering local taste another difference though declined west arcade game remain important sector japanese gaming industry south korea computer game generally preferred console game especially mmorpg game realtime strategy game computer game also popular china effect society culture video game culture worldwide medium subculture formed around video game game playing computer video game increased popularity time significant influence popular culture video game culture also evolved time hand hand internet culture well increasing popularity mobile game many people play video game identify gamers mean anything someone enjoys game someone passionate video game become social multiplayer online capability gamers find growing social network gaming entertainment well competition trend known electronic sport becoming widely accepted video game discussion video game trend topic seen social medium politics television film music covid pandemic gave visibility video game pastime enjoy friend family online mean social distancing since mids debate whether video game qualify primarily form interactivity interfered artistic intent work designed commercial appeal significant debate matter came film critic roger ebert published essay video game never challenged industry prove critic wrong view video game form cemented supreme court ruled landmark case brown entertainment merchant association video game protected form speech artistic merit since video game developer come form artistic expression including development game cultural heritage video game work beyond technical capability part major museum exhibit including video game smithsonian american museum toured museum video game inspire sequel video game within franchise also influenced work outside video game medium numerous television show animated liveaction film comic novel created based existing video game franchise video game interactive medium trouble converting passive form medium typically work critically panned treated childrens medium example video game film ever received fresh rating rotten tomato release detective pikachu sonic hedgehog receiving fresh rating show sign film industry found approach adapt video game large screen said early video gamebased film highly successful office mortal kombat lara croft tomb raider recently since also become larger appreciation video game music range chiptunes composed limited soundoutput device early computer console fullyscored composition modern game music frequently served platform cover remixes concert featuring video game soundtrack performed band orchestra video game live also become popular video game also frequently incorporate licensed music particularly area rhythm game furthering depth video game music work together video game serve virtual environment full control producer create work capability render actor setting realtime type work machinima short machine cinema grew using video game engine craft narrative video game engine gain higher fidelity also become part tool used traditional filmmaking unreal engine used backbone industrial light magic stagecraft technology show like mandalorian separately video game also frequently used part promotion marketing medium film anime comic however licensed game often reputation poor quality developed without input intellectual property right owner several considered among list game notably negative reception superman recently licensed game developed triplea studio studio directly connected licensed property owner significant improvement quality game early trendsetting example batman arkham asylum beneficial besides entertainment value appropriatelydesigned video game seen provide value education across several comprehension level learning principle found video game identified possible technique reform education system noticed gamers adopt attitude playing high concentration realize learning attitude could adopted school education would enjoy significant benefit student found learning playing video game fostering creative thinking video game also believed beneficial mind body shown action video game player better handeye coordination visuomotor skill resistance distraction sensitivity information peripheral vision ability count briefly presented object nonplayers researcher found enhanced ability could acquired training action game involving challenge switch attention different location game requiring concentration single object systematic review found evidence video gaming training positive effect cognitive emotional skill adult population especially young adult systematic review also added support claim video game beneficial brain although beneficial effect video gaming brain differed video game type organiser video gaming event organiser dlux video game festival dumfries scotland emphasised positive aspect video game mental health organiser mental health worker mental health nurse event emphasised relationship friendship built around video game playing game help people learn others precursor discussing person mental health study oxford university also suggested playing video game benefit person mental health report gamers focused game animal crossing horizon plant zombie battle neighborville used actual playtime data report found played game tended report greater wellbeing also computer science professor regan mandryk university saskatchewan said research also showed video game health benefit reducing stress improving mental health university research studied group preliterate child older adult living long term care home main focus yearolds study gamers attitude towards gaming reported found millennials video game strategy coping stress study gamers said help unwind relieve stress half said value gaming method escapism help deal daily work pressure controversy video game caused controversy since parent childrens advocate regularly raise concern violent video game influence young player performing violent real life event columbine high school massacre claimed perpetrator specifically alluded using video game plot attack raised fear medical expert mental health professional also raised concerned video game addictive world health organization included gaming disorder revision international statistical classification disease health expert including american psychiatric association stated insufficient evidence video game create violent tendency lead addictive behavior though agree video game typically compulsion loop core design create dopamine help reinforce desire continue play compulsion loop potentially lead violent addictive behavior even case establishing video game qualify protected form pressure video game industry keep product check avoid overexcessive violence particularly game aimed younger child potential addictive behavior around game coupled increased used postsale monetization video game also raised concern among parent advocate government official gambling tendency come video game controversy around loot many highprofile game numerous controversy around video game industry arisen year among notable incident include united state congressional hearing violent game like mortal kombat lead formation esrb rating system numerous legal action taken attorney jack thompson violent game grand theft auto manhunt outrage russian level call duty modern warfare allowed player shoot number innocent nonplayer character airport gamergate harassment campaign highlighted misogyny portion player demographic industry whole also dealt issue related gender racial lgbtq discrimination mischaracterization minority group video game issue industry related working condition development studio publisher frequently crunch time required extended working hour week month ahead game release assure ontime delivery collecting preservation player video game often maintain collection game recently interest retrogaming focusing game first decade game retail packaging good shape become collector item early industry rare publication gone separately also concern preservation video game game medium hardware play degrade time many game developer publisher first decade longer exist record game disappeared archivist preservation worked within scope copyright save game part cultural history industry many video game museum around world including national videogame museum frisco texas serf largest museum wholly dedicated display preservation industry important artifact europe host video game museum computer game museum berlin museum soviet arcade machine moscow saintpetersburg museum digital entertainment oakland california dedicated video game museum focusing playable exhibit console computer game video game museum rome also dedicated preserving video game history international center history electronic game strong rochester york contains largest collection electronic game gamerelated historical material world including squarefoot exhibit allows guest play history video game smithsonian institution washington three video game permanent display pacman dragon lair pong museum modern added total video game video game console permanent architecture design collection since smithsonian american museum exhibition video game however review exhibit mixed including questioning whether video game belong museum also list video game list accessory video game system outline video game note reference reading external link video game bibliography french video game research association ludoscience virtual museum computing vmoc archived october\n",
            "\n",
            "Processed Text:\n",
            "board game tabletop game typically piece piece moved placed premarked board playing surface often include element table card roleplaying miniature game well many board game feature competition player show example checker british english name draught player capturing opposing piece eurogames often calculation final score pandemic cooperative game player lose team solitaire puzzle person many variety board game representation reallife situation range inherent theme checker specific theme narrative cluedo rule range simple snake ladder deeply complex advanced squad leader play component often include custom figure shaped counter distinctively shaped player piece commonly known meeples well traditional card dice time required learn master gameplay varies greatly game game necessarily related number complexity rule example chess posse relatively simple rulesets great strategic depth history ancient classical board game divided four category race game pachisi space game nought cross chase game hnefatafl game displacement chess board game played traveled evolved culture society throughout history several important historical site artifact document shed light early board game jiroft civilization game board iran senet found predynastic first dynasty burial egypt respectively oldest board game known existed senet pictured fresco painting found merkneras tomb also predynastic egypt mehen hound jackal another ancient egyptian board game appeared around first complete game discovered theban tomb date dynasty game also popular mesopotamia caucasus backgammon originated ancient mesopotamia year ashtapada chess pachisi chaupar originated india liubo originated china patolli originated mesoamerica played ancient aztec royal game found royal tomb dating mesopotamia year european board game long tradition europe oldest record board gaming europe date back homer iliad written century mention ancient greek game petteia game petteia would later evolve roman ludus latrunculorum board gaming ancient europe unique grecoroman world record estimating ancient norse game hnefatafl developed sometime ancient ireland game fidchell ficheall said date back least though likely anachronism fidchell board dating century uncovered westmeath ireland association dice card gambling dice game except backgammon treated lottery dice gaming early board game producer second half eighteenth century mapmakers global popularization board game special theme branding coincided formation global dominance british empire john wallis english board game publisher bookseller mapchart seller printseller music seller cartographer john wallis edward wallis prolific publisher board game late early century john betts tour british colony foreign possession william spooners voyage discovery popular british empire kriegsspiel genre wargaming developed century prussia teach battle tactic officer american board game traveller tour united state sister game traveller tour europe published york city bookseller lockwood claim distinction first board game published united state margaret hofer described period golden board gaming america board game popularity boosted like many item mass production made cheaper easily available chinese arabic indian outside europe many traditional board game popular china many variation chess popular africa middle east mancala popular board game archetype many regional variation india community game called carrom popular modern late company began producing game serve growing worldwide market several publication said board game amid golden renaissance board game venue also grew popularity alone board game cafs opened reported popular china well board game used mechanism science communication luck strategy diplomacy game chess depend completely player skill many childrens game candy land snake ladder require decision player decided purely luck many game require level skill luck player hampered luck backgammon monopoly risk many game skilled player often element luck also make excitement time allow diverse multifaceted strategy concept expected value risk management must considered luck introduced game several method dice various sort back earliest board game decide everything many step player move token monopoly force fare battle risk resource player gain catan game sorry deck special card shuffled create randomness scrabble something similar randomly picked letter game spinner timer random length source randomness germanstyle board game notable often fewer element luck many north american board game luck reduced favour skill introducing symmetry player example dice game ludo giving player choice rolling dice using previous player roll another important aspect game diplomacy player making deal another negotiation generally feature game three player cooperative game exception important facet catan example convincing player trade rather opponent risk player team others easy diplomacy involves convincing player someone else winning therefore teamed advanced diplomacy aptly named game diplomacy consists making elaborate plan together possibility betrayal perfect information game chess player complete information state game game tigris euphrates stratego information hidden player make finding best move difficult involve estimating probability opponent software many board game available video game aptly termed digital board game distinguishing characteristic compared traditional board game played online computer player website boardgamearenacom yucatade allow play real time immediately show opponent move others email notify player move internet cheaper home printing also influenced board game printandplay game purchased printed game external medium audio cassette accompaniment game also virtual tabletop program allow online player play variety existing board game tool needed manipulate game board necessarily enforce game rule leaving player generalized program vassal tabletop simulator tabletopia used play board card game program like roll fantasy ground specialized roleplaying game virtual tabletop worked license holder allow game asset within program example fantasy ground license dungeon dragon pathfinder material tabletop simulator allows game publisher provide paid downloadable content game however game offer ability content user modification also unlicensed board game asset available program market board gaming market estimated smaller video game also experienced significant growth late article guardian described board game making comeback expert source suggest board game never went away board game remained popular leisure activity grown time another gave estimate growth board game market annually since described current time golden board game rise board game popularity attributed quality improvement elegant mechanic component artwork graphic well increased availability thanks sale internet crowdsourcing board game large facet market million raised kickstarter estimate global board game market billion estimate united state board game puzzle market gave value million united kingdom million estimate korean market million another estimate american board game market year million estimate chinese board game market billion yuan estimate size german market billion euro board game puzzle market worth million euro polish market billion million zloty respectively germany considered best market caput highest number game sold individual hobby board game academic erica price marco arnaudo differentiated hobby board game gamers board game gamers estimate placed canada market hobby board game game produced gamer market million total size defined hobby game market market game regardless whether theyre sold hobby channel channel million similar estimate suggested hobby game market value almost million research dedicated field research gaming exists known game study ludology fair amount scientific research psychology older board game chess mancala done contemporary board game monopoly scrabble risk especially modern board game catan agricola pandemic much research carried chess partly many tournament player publicly ranked national international list make possible compare level expertise work adriaan groot william chase herbert simon fernand gobet established knowledge ability anticipate move play essential role chessplaying ability linearly arranged board game improved childrens spatial numerical understanding game similar number line promote linear understanding number rather innate logarithmic research study show board game snake ladder result child showing significant improvement aspect basic number skill counting recognizing number numerical estimation number comprehension also practice fine motor skill time grasp game piece playing board game also tied improving childrens executive function help reduce risk dementia elderly related growing academic interest topic game accessibility culminating development guideline assessing accessibility modern tabletop game extent playable people disability additionally board game therapeutic bruce halpenny game inventor said interviewed game great train robberywith crime deal every basic human emotion also enough element combine action melodrama player imagination fired plan train gamble take early stage game buildup tension immediately released train robbed release tension therapeutic useful society boring repetitive playing game suggested viable addition traditional educational curriculum content appropriate gameplay informs student curriculum content category several board game classified considerable overlap exist game belongs several category namesake board game gameboard would seem necessary sufficient condition genre though card game standard deck card well game neither card gameboard often colloquially included scholar therefore referring said genre table board game tabletop game seeing board game subgenre tabletop game murray history board game chess called first attempt develop scheme classification board game david parletts oxford history board game defines four primary category race game goal first move piece final destination space game object arrange piece special configuration chase game asymmetrical game player start game different piece objective displace game main objective capture opponent piece parlett also distinguishes abstract thematic game latter specific theme frame narrative regular chess versus example star warsthemed chess following list common game category glossary although many board game jargon generalized terminology describe concept applicable basic game mechanic attribute common nearly board game also reference reading external link board game curlie boardgamegeek boardgametheories international board game study association\n",
            "\n",
            "Processed Text:\n",
            "roleplaying game sometimes spelled roleplaying game abbreviated game player assume role character fictional setting player take responsibility acting role within narrative either literal acting process structured decisionmaking regarding character development action taken within many game succeed fail according formal system rule guideline several form roleplaying game original form sometimes called tabletop roleplaying game trpg ttrpg conducted discussion whereas live action roleplaying larp player physically perform character action form arranger called game master usually decides rule setting used acting referee player take role single character several variety also exist electronic medium multiplayer textbased multiuser dungeon graphicsbased successor massively multiplayer online roleplaying game mmorpgs roleplaying game also include singleplayer roleplaying video game player control character team character undertakes quest include player capability advance using statistical mechanic electronic game sometimes share setting rule tabletop rpgs emphasize character advancement collaborative storytelling type game wellestablished rpgrelated game form tradingcollectible card game ccgs wargames included definition amount roleplaying activity present game primary focus term roleplaying game also sometimes used describe game involving roleplay simulation exercise used teaching training academic research purpose author major publisher tabletop roleplaying game consider form interactive collaborative storytelling event character narrative structure give sense narrative experience game need stronglydefined storyline interactivity crucial difference roleplaying game traditional fiction whereas viewer television show passive observer player roleplaying game make choice affect story roleplaying game extend older tradition storytelling game small party friend collaborate create story simple form roleplaying exist traditional childrens game make believe roleplaying game level sophistication persistence basic idea addition game facilitator rule interaction participant roleplaying game generate specific character ongoing plot consistent system rule realistic campaign setting game suspension disbelief level realism game range enough internal consistency believable story credible challenge fullblown simulation realworld process tabletop roleplaying game also used therapy setting help individual develop behavioral social even language skill beneficiary commonly include young people learning difficulty autism spectrum disorder attentiondeficit hyperactive disorder adhd dyslexia variety roleplaying game played wide variety format ranging discussing character interaction tabletop form physically acting character larp playing character virtually digital medium also great variety system rule game setting game emphasize plot character interaction game mechanic combat sometimes prefer name storytelling game type game tend reduce eliminate dice randomizing element game played character created game rather created player type game typically played gaming convention standalone game form part campaign tabletop tabletop penandpaper rpgs conducted discussion small social gathering describes game world inhabitant player describe intended action character describes outcome outcome determined game system chosen format roleplaying game first popularized first commercially available dungeon dragon inspired fantasy literature wargaming hobby published popularity birth tabletop roleplaying game industry publishes game many different theme rule style play popularity tabletop game decreased since modern release online rpgs format often referred simply roleplaying game distinguish form format retronym tabletop roleplaying game paper roleplaying game sometimes used though neither table paper strictly necessary live action larp played like improvisational theatre participant character action instead describing real environment used represent imaginary setting game world player often costumed character appropriate prop venue decorated resemble fictional setting liveaction roleplaying game rock paper scissors comparison attribute resolve conflict symbolically larps physical combat simulated airsoft foam weapon larps vary size handful player several thousand duration couple hour several number player larp usually larger tabletop roleplaying game player interacting separate physical space typically emphasis tightly maintaining narrative directly entertaining player game session often managed distributed manner electronic medium tabletop roleplaying game translated variety electronic format early year release dungeon dragon unlicensed version developed mainframe university system title dungeon early computer rpgs influenced electronic gaming well spawning roleplaying video game genre author divide digital roleplaying game intertwined group singleplayer game using rpgstyle mechanic multiplayer game incorporating social interaction singleplayer singleplayer roleplaying video game form loosely defined genre computer console game origin roleplaying game dungeon dragon base much terminology setting game mechanic translation change experience game providing visual representation world emphasizing statistical character development collaborative interactive storytelling multiplayer online textbased roleplaying game involve many player using type textbased interface internet connection play game played realtime include mush variety game played turnbased fashion include playbymail game playbypost game massively multiplayer online roleplaying game mmorpgs combine largescale social interaction persistent world graphic interface mmorpgs actively promote incharacter roleplaying however player game communication function roleplay long player cooperate majority player mmorpgs engage roleplaying sense computerassisted gaming used element computer gaming inperson tabletop roleplaying computer used recordkeeping sometimes resolve combat participant generally make decision concerning character interaction people gamemaster common feature many rpgs role gamemaster participant special duty present fictional setting arbitrate result character action maintain narrative flow tabletop liveaction rpgs performs duty person video rpgs many function fulfilled game engine however multiplayer video rpgs also allow participant take role visual interface called toolkit albeit ability limited available technology player character another standard concept rpgs player character character fictional world game whose action player control typically player control separate player character sometimes protagonist story nonplayer character contrast player character nonplayer character controlled gamemaster game engine people assisting gamemaster nonplayer character fill population fictional setting antagonist bystander ally player character also roleplaying game term gaming convention history roleplaying game timeline roleplaying game list roleplaying game artist list designer roleplaying game list game manufacturer including roleplaying game list roleplaying game publisher list roleplaying game name list campaign setting polish roleplaying game japanese roleplaying game list roleplaying game software playbypost roleplaying game conversation game note reference external link medium related roleplaying game wikimedia common\n"
          ]
        }
      ]
    },
    {
      "cell_type": "code",
      "source": [
        "len(corpus)"
      ],
      "metadata": {
        "colab": {
          "base_uri": "https://localhost:8080/"
        },
        "id": "e7U9zXsEV2vf",
        "outputId": "a151553a-056d-45f7-bc9d-dd58dd197eec"
      },
      "execution_count": null,
      "outputs": [
        {
          "output_type": "execute_result",
          "data": {
            "text/plain": [
              "66369"
            ]
          },
          "metadata": {},
          "execution_count": 6
        }
      ]
    },
    {
      "cell_type": "markdown",
      "metadata": {
        "id": "B0BZhQtwmtF9"
      },
      "source": [
        "# Tokenize words and one hot encoding"
      ]
    },
    {
      "cell_type": "code",
      "source": [
        "import re\n",
        "import numpy as np\n",
        "import tensorflow as tf\n",
        "import wikipedia\n",
        "from nltk.tokenize import word_tokenize\n",
        "from nltk.corpus import stopwords\n",
        "from nltk.stem import WordNetLemmatizer\n",
        "from keras.models import Sequential\n",
        "from keras.layers import SimpleRNN, GRU, LSTM, Dense, Embedding\n",
        "from keras.preprocessing.text import Tokenizer\n",
        "from keras.preprocessing.sequence import pad_sequences\n",
        "import nltk"
      ],
      "metadata": {
        "id": "UBRt-Qx6erKt"
      },
      "execution_count": null,
      "outputs": []
    },
    {
      "cell_type": "code",
      "source": [
        "from reportlab.lib.pagesizes import letter\n",
        "from reportlab.platypus import SimpleDocTemplate, Paragraph, Spacer, Image\n",
        "from reportlab.lib.styles import getSampleStyleSheet\n",
        "import numpy as np\n",
        "doc = SimpleDocTemplate(\"Results.pdf\", pagesize=letter)\n",
        "styles = getSampleStyleSheet()\n",
        "pdf_components = []"
      ],
      "metadata": {
        "id": "rF60IZ0MlKbE"
      },
      "execution_count": null,
      "outputs": []
    },
    {
      "cell_type": "markdown",
      "metadata": {
        "id": "E4VG3tnimkxu"
      },
      "source": [
        "# ***Word Generation***"
      ]
    },
    {
      "cell_type": "code",
      "source": [
        "# Tokenize words\n",
        "tokenizer = Tokenizer()\n",
        "tokenizer.fit_on_texts([corpus])\n",
        "word_index = tokenizer.word_index\n",
        "seq_length = 3\n",
        "sequences = []\n",
        "\n",
        "# Generate word sequences\n",
        "for i in range(seq_length, len(corpus.split())):\n",
        "    seq = corpus.split()[i-seq_length:i]\n",
        "    sequences.append(seq)\n",
        "\n",
        "# Create input and output data\n",
        "sequences = [' '.join(seq) for seq in sequences]\n",
        "X = tokenizer.texts_to_sequences(sequences)\n",
        "X = np.array(X)\n",
        "y = X[:, -1]\n",
        "X = X[:, :-1]\n",
        "\n",
        "vocab_size = len(word_index) + 1\n",
        "\n",
        "# One-hot encode y\n",
        "y = tf.keras.utils.to_categorical(y, num_classes=vocab_size)"
      ],
      "metadata": {
        "id": "Jq1QZ3oXz7qB"
      },
      "execution_count": null,
      "outputs": []
    },
    {
      "cell_type": "markdown",
      "source": [
        "# **One RNN Layer**"
      ],
      "metadata": {
        "id": "vkCAtGSqjuVQ"
      }
    },
    {
      "cell_type": "code",
      "source": [
        "from keras.models import Sequential\n",
        "from keras.layers import Embedding, SimpleRNN, Dense\n",
        "\n",
        "# Model building\n",
        "model_rnn = Sequential()\n",
        "model_rnn.add(Embedding(vocab_size, 50, input_length=seq_length-1))\n",
        "model_rnn.add(SimpleRNN(128))  # Use SimpleRNN layer\n",
        "model_rnn.add(Dense(vocab_size, activation='softmax'))\n",
        "\n",
        "model_rnn.compile(optimizer='adam', loss='categorical_crossentropy', metrics=['accuracy'])\n",
        "\n",
        "# Train the model\n",
        "model_rnn.fit(X, y, epochs=50, verbose=1)\n"
      ],
      "metadata": {
        "id": "HQ0gBuoTjnah",
        "colab": {
          "base_uri": "https://localhost:8080/"
        },
        "outputId": "3fe90f8b-cc41-4c0f-a6bc-1052e0ff09aa"
      },
      "execution_count": null,
      "outputs": [
        {
          "output_type": "stream",
          "name": "stdout",
          "text": [
            "Epoch 1/50\n",
            "269/269 [==============================] - 7s 18ms/step - loss: 7.2312 - accuracy: 0.0905\n",
            "Epoch 2/50\n",
            "269/269 [==============================] - 6s 21ms/step - loss: 6.6365 - accuracy: 0.0945\n",
            "Epoch 3/50\n",
            "269/269 [==============================] - 5s 18ms/step - loss: 6.4170 - accuracy: 0.0951\n",
            "Epoch 4/50\n",
            "269/269 [==============================] - 4s 16ms/step - loss: 6.1962 - accuracy: 0.0968\n",
            "Epoch 5/50\n",
            "269/269 [==============================] - 4s 13ms/step - loss: 5.9277 - accuracy: 0.0986\n",
            "Epoch 6/50\n",
            "269/269 [==============================] - 2s 9ms/step - loss: 5.5761 - accuracy: 0.1127\n",
            "Epoch 7/50\n",
            "269/269 [==============================] - 2s 9ms/step - loss: 5.1172 - accuracy: 0.1475\n",
            "Epoch 8/50\n",
            "269/269 [==============================] - 3s 9ms/step - loss: 4.6135 - accuracy: 0.2034\n",
            "Epoch 9/50\n",
            "269/269 [==============================] - 3s 10ms/step - loss: 4.1138 - accuracy: 0.2723\n",
            "Epoch 10/50\n",
            "269/269 [==============================] - 3s 13ms/step - loss: 3.6511 - accuracy: 0.3392\n",
            "Epoch 11/50\n",
            "269/269 [==============================] - 2s 9ms/step - loss: 3.2494 - accuracy: 0.3990\n",
            "Epoch 12/50\n",
            "269/269 [==============================] - 2s 9ms/step - loss: 2.9033 - accuracy: 0.4439\n",
            "Epoch 13/50\n",
            "269/269 [==============================] - 2s 9ms/step - loss: 2.6159 - accuracy: 0.4849\n",
            "Epoch 14/50\n",
            "269/269 [==============================] - 3s 11ms/step - loss: 2.3775 - accuracy: 0.5168\n",
            "Epoch 15/50\n",
            "269/269 [==============================] - 4s 13ms/step - loss: 2.1759 - accuracy: 0.5523\n",
            "Epoch 16/50\n",
            "269/269 [==============================] - 2s 9ms/step - loss: 2.0029 - accuracy: 0.5832\n",
            "Epoch 17/50\n",
            "269/269 [==============================] - 2s 9ms/step - loss: 1.8452 - accuracy: 0.6197\n",
            "Epoch 18/50\n",
            "269/269 [==============================] - 2s 9ms/step - loss: 1.7130 - accuracy: 0.6399\n",
            "Epoch 19/50\n",
            "269/269 [==============================] - 3s 11ms/step - loss: 1.5869 - accuracy: 0.6717\n",
            "Epoch 20/50\n",
            "269/269 [==============================] - 4s 13ms/step - loss: 1.4777 - accuracy: 0.6893\n",
            "Epoch 21/50\n",
            "269/269 [==============================] - 2s 9ms/step - loss: 1.3771 - accuracy: 0.7110\n",
            "Epoch 22/50\n",
            "269/269 [==============================] - 2s 9ms/step - loss: 1.2892 - accuracy: 0.7253\n",
            "Epoch 23/50\n",
            "269/269 [==============================] - 2s 9ms/step - loss: 1.2078 - accuracy: 0.7405\n",
            "Epoch 24/50\n",
            "269/269 [==============================] - 3s 11ms/step - loss: 1.1321 - accuracy: 0.7561\n",
            "Epoch 25/50\n",
            "269/269 [==============================] - 3s 13ms/step - loss: 1.0642 - accuracy: 0.7680\n",
            "Epoch 26/50\n",
            "269/269 [==============================] - 2s 9ms/step - loss: 1.0046 - accuracy: 0.7755\n",
            "Epoch 27/50\n",
            "269/269 [==============================] - 2s 9ms/step - loss: 0.9510 - accuracy: 0.7839\n",
            "Epoch 28/50\n",
            "269/269 [==============================] - 2s 9ms/step - loss: 0.9007 - accuracy: 0.7954\n",
            "Epoch 29/50\n",
            "269/269 [==============================] - 3s 11ms/step - loss: 0.8567 - accuracy: 0.8001\n",
            "Epoch 30/50\n",
            "269/269 [==============================] - 4s 13ms/step - loss: 0.8196 - accuracy: 0.8085\n",
            "Epoch 31/50\n",
            "269/269 [==============================] - 2s 9ms/step - loss: 0.7830 - accuracy: 0.8109\n",
            "Epoch 32/50\n",
            "269/269 [==============================] - 2s 9ms/step - loss: 0.7480 - accuracy: 0.8191\n",
            "Epoch 33/50\n",
            "269/269 [==============================] - 2s 9ms/step - loss: 0.7227 - accuracy: 0.8202\n",
            "Epoch 34/50\n",
            "269/269 [==============================] - 3s 11ms/step - loss: 0.6940 - accuracy: 0.8272\n",
            "Epoch 35/50\n",
            "269/269 [==============================] - 4s 13ms/step - loss: 0.6719 - accuracy: 0.8262\n",
            "Epoch 36/50\n",
            "269/269 [==============================] - 3s 9ms/step - loss: 0.6501 - accuracy: 0.8300\n",
            "Epoch 37/50\n",
            "269/269 [==============================] - 3s 9ms/step - loss: 0.6352 - accuracy: 0.8289\n",
            "Epoch 38/50\n",
            "269/269 [==============================] - 2s 9ms/step - loss: 0.6182 - accuracy: 0.8330\n",
            "Epoch 39/50\n",
            "269/269 [==============================] - 4s 13ms/step - loss: 0.6034 - accuracy: 0.8342\n",
            "Epoch 40/50\n",
            "269/269 [==============================] - 5s 18ms/step - loss: 0.5935 - accuracy: 0.8308\n",
            "Epoch 41/50\n",
            "269/269 [==============================] - 2s 9ms/step - loss: 0.5801 - accuracy: 0.8348\n",
            "Epoch 42/50\n",
            "269/269 [==============================] - 3s 9ms/step - loss: 0.5713 - accuracy: 0.8346\n",
            "Epoch 43/50\n",
            "269/269 [==============================] - 2s 9ms/step - loss: 0.5614 - accuracy: 0.8376\n",
            "Epoch 44/50\n",
            "269/269 [==============================] - 4s 15ms/step - loss: 0.5536 - accuracy: 0.8364\n",
            "Epoch 45/50\n",
            "269/269 [==============================] - 3s 10ms/step - loss: 0.5454 - accuracy: 0.8348\n",
            "Epoch 46/50\n",
            "269/269 [==============================] - 3s 9ms/step - loss: 0.5381 - accuracy: 0.8401\n",
            "Epoch 47/50\n",
            "269/269 [==============================] - 3s 9ms/step - loss: 0.5326 - accuracy: 0.8364\n",
            "Epoch 48/50\n",
            "269/269 [==============================] - 3s 10ms/step - loss: 0.5277 - accuracy: 0.8371\n",
            "Epoch 49/50\n",
            "269/269 [==============================] - 4s 14ms/step - loss: 0.5219 - accuracy: 0.8408\n",
            "Epoch 50/50\n",
            "269/269 [==============================] - 3s 10ms/step - loss: 0.5198 - accuracy: 0.8372\n"
          ]
        },
        {
          "output_type": "execute_result",
          "data": {
            "text/plain": [
              "<keras.src.callbacks.History at 0x7af1d38aab00>"
            ]
          },
          "metadata": {},
          "execution_count": 10
        }
      ]
    },
    {
      "cell_type": "code",
      "source": [
        "# Text generation\n",
        "start_seq = \" game\"  # Start sequence for text generation\n",
        "generated_text = start_seq\n",
        "\n",
        "for i in range(50):  # Generate 50 words\n",
        "    token_list = tokenizer.texts_to_sequences([generated_text])[0]\n",
        "    token_list = pad_sequences([token_list], maxlen=seq_length-1, padding='pre')\n",
        "    predicted_probs = model_rnn.predict(token_list)[0]\n",
        "    predicted_index = np.argmax(predicted_probs)\n",
        "\n",
        "    output_word = \"\"\n",
        "    for word, index in word_index.items():\n",
        "        if index == predicted_index:\n",
        "            output_word = word\n",
        "            break\n",
        "    generated_text += \" \" + output_word\n",
        "\n",
        "print(\"\\nGenerated Text:\")\n",
        "print(generated_text)"
      ],
      "metadata": {
        "id": "Fn5gPZsdlXYB",
        "colab": {
          "base_uri": "https://localhost:8080/"
        },
        "outputId": "ae0952d7-553d-435c-99f7-38ff7d76b74e"
      },
      "execution_count": null,
      "outputs": [
        {
          "output_type": "stream",
          "name": "stdout",
          "text": [
            "1/1 [==============================] - 0s 222ms/step\n",
            "1/1 [==============================] - 0s 24ms/step\n",
            "1/1 [==============================] - 0s 24ms/step\n",
            "1/1 [==============================] - 0s 23ms/step\n",
            "1/1 [==============================] - 0s 24ms/step\n",
            "1/1 [==============================] - 0s 21ms/step\n",
            "1/1 [==============================] - 0s 19ms/step\n",
            "1/1 [==============================] - 0s 19ms/step\n",
            "1/1 [==============================] - 0s 20ms/step\n",
            "1/1 [==============================] - 0s 21ms/step\n",
            "1/1 [==============================] - 0s 24ms/step\n",
            "1/1 [==============================] - 0s 30ms/step\n",
            "1/1 [==============================] - 0s 20ms/step\n",
            "1/1 [==============================] - 0s 20ms/step\n",
            "1/1 [==============================] - 0s 19ms/step\n",
            "1/1 [==============================] - 0s 19ms/step\n",
            "1/1 [==============================] - 0s 19ms/step\n",
            "1/1 [==============================] - 0s 19ms/step\n",
            "1/1 [==============================] - 0s 20ms/step\n",
            "1/1 [==============================] - 0s 19ms/step\n",
            "1/1 [==============================] - 0s 20ms/step\n",
            "1/1 [==============================] - 0s 21ms/step\n",
            "1/1 [==============================] - 0s 21ms/step\n",
            "1/1 [==============================] - 0s 21ms/step\n",
            "1/1 [==============================] - 0s 22ms/step\n",
            "1/1 [==============================] - 0s 20ms/step\n",
            "1/1 [==============================] - 0s 19ms/step\n",
            "1/1 [==============================] - 0s 20ms/step\n",
            "1/1 [==============================] - 0s 20ms/step\n",
            "1/1 [==============================] - 0s 26ms/step\n",
            "1/1 [==============================] - 0s 20ms/step\n",
            "1/1 [==============================] - 0s 19ms/step\n",
            "1/1 [==============================] - 0s 19ms/step\n",
            "1/1 [==============================] - 0s 21ms/step\n",
            "1/1 [==============================] - 0s 21ms/step\n",
            "1/1 [==============================] - 0s 20ms/step\n",
            "1/1 [==============================] - 0s 30ms/step\n",
            "1/1 [==============================] - 0s 31ms/step\n",
            "1/1 [==============================] - 0s 29ms/step\n",
            "1/1 [==============================] - 0s 31ms/step\n",
            "1/1 [==============================] - 0s 31ms/step\n",
            "1/1 [==============================] - 0s 28ms/step\n",
            "1/1 [==============================] - 0s 27ms/step\n",
            "1/1 [==============================] - 0s 28ms/step\n",
            "1/1 [==============================] - 0s 28ms/step\n",
            "1/1 [==============================] - 0s 32ms/step\n",
            "1/1 [==============================] - 0s 33ms/step\n",
            "1/1 [==============================] - 0s 28ms/step\n",
            "1/1 [==============================] - 0s 30ms/step\n",
            "1/1 [==============================] - 0s 30ms/step\n",
            "\n",
            "Generated Text:\n",
            " game played primarily personal computer type flexible hardware system also commonly used light indicator combination imaging purpose computer game also used descriptor type game tend reduce eliminate dice randomizing element game played primarily personal computer type flexible hardware system also commonly used light indicator combination imaging purpose computer game also used\n"
          ]
        }
      ]
    },
    {
      "cell_type": "code",
      "source": [
        "heading1 = Paragraph(f\"word generation: generatre 50 word\", styles[\"Heading1\"])\n",
        "heading2 = Paragraph(f\"Model 1 : one RNN Layer\", styles[\"Heading2\"])\n",
        "text = f\"RNN + Dense\"\n",
        "para1 = Paragraph(text, styles[\"Normal\"])\n",
        "text = f\"Generated: {generated_text}\"\n",
        "para2 = Paragraph(text, styles[\"Normal\"])\n",
        "pdf_components += [heading1, Spacer(1, 20),heading2, Spacer(1, 20), para1, Spacer(1, 20), para2, Spacer(1, 20)]"
      ],
      "metadata": {
        "id": "cwOrLjMkM-lf"
      },
      "execution_count": null,
      "outputs": []
    },
    {
      "cell_type": "markdown",
      "source": [
        "\n",
        "# **3 RNN Layers**"
      ],
      "metadata": {
        "id": "sRCY4gjjOZ56"
      }
    },
    {
      "cell_type": "code",
      "source": [
        "# Model building\n",
        "model_rnn = Sequential()\n",
        "model_rnn.add(Embedding(vocab_size, 50, input_length=seq_length-1))\n",
        "model_rnn.add(SimpleRNN(64, return_sequences=True))  # Use SimpleRNN layer with 64 units and return sequences\n",
        "model_rnn.add(SimpleRNN(32, return_sequences=True))  # Another SimpleRNN layer with 32 units and return sequences\n",
        "model_rnn.add(SimpleRNN(32))  # Yet another SimpleRNN layer with 32 units\n",
        "model_rnn.add(Dense(vocab_size, activation='softmax'))\n",
        "\n",
        "model_rnn.compile(optimizer='adam', loss='categorical_crossentropy', metrics=['accuracy'])\n",
        "\n",
        "# Train the model\n",
        "model_rnn.fit(X, y, epochs=50, verbose=1)"
      ],
      "metadata": {
        "id": "pTGa5mW6Oviq",
        "colab": {
          "base_uri": "https://localhost:8080/"
        },
        "outputId": "80b43bf3-ed85-4562-adf6-93cb314f483c"
      },
      "execution_count": null,
      "outputs": [
        {
          "output_type": "stream",
          "name": "stdout",
          "text": [
            "Epoch 1/50\n",
            "269/269 [==============================] - 11s 15ms/step - loss: 7.2775 - accuracy: 0.0908\n",
            "Epoch 2/50\n",
            "269/269 [==============================] - 5s 18ms/step - loss: 6.7230 - accuracy: 0.0938\n",
            "Epoch 3/50\n",
            "269/269 [==============================] - 4s 15ms/step - loss: 6.5424 - accuracy: 0.0938\n",
            "Epoch 4/50\n",
            "269/269 [==============================] - 3s 13ms/step - loss: 6.3928 - accuracy: 0.0938\n",
            "Epoch 5/50\n",
            "269/269 [==============================] - 2s 8ms/step - loss: 6.2378 - accuracy: 0.0954\n",
            "Epoch 6/50\n",
            "269/269 [==============================] - 3s 11ms/step - loss: 6.0747 - accuracy: 0.1011\n",
            "Epoch 7/50\n",
            "269/269 [==============================] - 3s 11ms/step - loss: 5.9102 - accuracy: 0.1089\n",
            "Epoch 8/50\n",
            "269/269 [==============================] - 2s 8ms/step - loss: 5.7458 - accuracy: 0.1150\n",
            "Epoch 9/50\n",
            "269/269 [==============================] - 3s 13ms/step - loss: 5.5844 - accuracy: 0.1219\n",
            "Epoch 10/50\n",
            "269/269 [==============================] - 3s 10ms/step - loss: 5.4246 - accuracy: 0.1334\n",
            "Epoch 11/50\n",
            "269/269 [==============================] - 3s 12ms/step - loss: 5.2725 - accuracy: 0.1401\n",
            "Epoch 12/50\n",
            "269/269 [==============================] - 3s 10ms/step - loss: 5.1203 - accuracy: 0.1559\n",
            "Epoch 13/50\n",
            "269/269 [==============================] - 2s 8ms/step - loss: 4.9799 - accuracy: 0.1663\n",
            "Epoch 14/50\n",
            "269/269 [==============================] - 2s 8ms/step - loss: 4.8451 - accuracy: 0.1796\n",
            "Epoch 15/50\n",
            "269/269 [==============================] - 2s 8ms/step - loss: 4.7219 - accuracy: 0.1913\n",
            "Epoch 16/50\n",
            "269/269 [==============================] - 2s 8ms/step - loss: 4.5956 - accuracy: 0.2070\n",
            "Epoch 17/50\n",
            "269/269 [==============================] - 3s 13ms/step - loss: 4.4741 - accuracy: 0.2217\n",
            "Epoch 18/50\n",
            "269/269 [==============================] - 2s 8ms/step - loss: 4.3664 - accuracy: 0.2345\n",
            "Epoch 19/50\n",
            "269/269 [==============================] - 2s 8ms/step - loss: 4.2572 - accuracy: 0.2486\n",
            "Epoch 20/50\n",
            "269/269 [==============================] - 3s 10ms/step - loss: 4.1550 - accuracy: 0.2641\n",
            "Epoch 21/50\n",
            "269/269 [==============================] - 2s 8ms/step - loss: 4.0530 - accuracy: 0.2783\n",
            "Epoch 22/50\n",
            "269/269 [==============================] - 3s 12ms/step - loss: 3.9547 - accuracy: 0.2991\n",
            "Epoch 23/50\n",
            "269/269 [==============================] - 3s 10ms/step - loss: 3.8621 - accuracy: 0.3128\n",
            "Epoch 24/50\n",
            "269/269 [==============================] - 2s 8ms/step - loss: 3.7715 - accuracy: 0.3262\n",
            "Epoch 25/50\n",
            "269/269 [==============================] - 2s 8ms/step - loss: 3.6881 - accuracy: 0.3389\n",
            "Epoch 26/50\n",
            "269/269 [==============================] - 2s 8ms/step - loss: 3.6049 - accuracy: 0.3577\n",
            "Epoch 27/50\n",
            "269/269 [==============================] - 2s 8ms/step - loss: 3.5241 - accuracy: 0.3713\n",
            "Epoch 28/50\n",
            "269/269 [==============================] - 3s 13ms/step - loss: 3.4421 - accuracy: 0.3855\n",
            "Epoch 29/50\n",
            "269/269 [==============================] - 2s 9ms/step - loss: 3.3655 - accuracy: 0.3966\n",
            "Epoch 30/50\n",
            "269/269 [==============================] - 2s 8ms/step - loss: 3.2934 - accuracy: 0.4111\n",
            "Epoch 31/50\n",
            "269/269 [==============================] - 2s 8ms/step - loss: 3.2232 - accuracy: 0.4232\n",
            "Epoch 32/50\n",
            "269/269 [==============================] - 2s 8ms/step - loss: 3.1595 - accuracy: 0.4319\n",
            "Epoch 33/50\n",
            "269/269 [==============================] - 3s 11ms/step - loss: 3.0928 - accuracy: 0.4423\n",
            "Epoch 34/50\n",
            "269/269 [==============================] - 4s 17ms/step - loss: 3.0245 - accuracy: 0.4543\n",
            "Epoch 35/50\n",
            "269/269 [==============================] - 2s 9ms/step - loss: 2.9651 - accuracy: 0.4649\n",
            "Epoch 36/50\n",
            "269/269 [==============================] - 2s 8ms/step - loss: 2.9024 - accuracy: 0.4779\n",
            "Epoch 37/50\n",
            "269/269 [==============================] - 2s 8ms/step - loss: 2.8445 - accuracy: 0.4897\n",
            "Epoch 38/50\n",
            "269/269 [==============================] - 2s 9ms/step - loss: 2.7968 - accuracy: 0.4938\n",
            "Epoch 39/50\n",
            "269/269 [==============================] - 4s 13ms/step - loss: 2.7351 - accuracy: 0.5076\n",
            "Epoch 40/50\n",
            "269/269 [==============================] - 2s 8ms/step - loss: 2.6807 - accuracy: 0.5172\n",
            "Epoch 41/50\n",
            "269/269 [==============================] - 2s 8ms/step - loss: 2.6304 - accuracy: 0.5249\n",
            "Epoch 42/50\n",
            "269/269 [==============================] - 2s 8ms/step - loss: 2.5780 - accuracy: 0.5322\n",
            "Epoch 43/50\n",
            "269/269 [==============================] - 2s 8ms/step - loss: 2.5347 - accuracy: 0.5424\n",
            "Epoch 44/50\n",
            "269/269 [==============================] - 3s 11ms/step - loss: 2.4777 - accuracy: 0.5491\n",
            "Epoch 45/50\n",
            "269/269 [==============================] - 3s 12ms/step - loss: 2.4340 - accuracy: 0.5572\n",
            "Epoch 46/50\n",
            "269/269 [==============================] - 2s 8ms/step - loss: 2.3957 - accuracy: 0.5611\n",
            "Epoch 47/50\n",
            "269/269 [==============================] - 2s 8ms/step - loss: 2.3490 - accuracy: 0.5729\n",
            "Epoch 48/50\n",
            "269/269 [==============================] - 2s 8ms/step - loss: 2.3097 - accuracy: 0.5757\n",
            "Epoch 49/50\n",
            "269/269 [==============================] - 2s 8ms/step - loss: 2.2726 - accuracy: 0.5823\n",
            "Epoch 50/50\n",
            "269/269 [==============================] - 3s 12ms/step - loss: 2.2255 - accuracy: 0.5891\n"
          ]
        },
        {
          "output_type": "execute_result",
          "data": {
            "text/plain": [
              "<keras.src.callbacks.History at 0x7af1603c00a0>"
            ]
          },
          "metadata": {},
          "execution_count": 13
        }
      ]
    },
    {
      "cell_type": "code",
      "source": [
        "# Text generation\n",
        "start_seq = \" game\"  # Start sequence for text generation\n",
        "generated_text = start_seq\n",
        "\n",
        "for i in range(50):  # Generate 50 words\n",
        "    token_list = tokenizer.texts_to_sequences([generated_text])[0]\n",
        "    token_list = pad_sequences([token_list], maxlen=seq_length-1, padding='pre')\n",
        "    predicted_probs = model_rnn.predict(token_list)[0]\n",
        "    predicted_index = np.argmax(predicted_probs)\n",
        "\n",
        "    output_word = \"\"\n",
        "    for word, index in word_index.items():\n",
        "        if index == predicted_index:\n",
        "            output_word = word\n",
        "            break\n",
        "    generated_text += \" \" + output_word\n",
        "\n",
        "print(\"\\nGenerated Text:\")\n",
        "print(generated_text)"
      ],
      "metadata": {
        "id": "J-XCijvMOnIV",
        "colab": {
          "base_uri": "https://localhost:8080/"
        },
        "outputId": "8ef09f5c-f1b7-445d-d641-9910987745c9"
      },
      "execution_count": null,
      "outputs": [
        {
          "output_type": "stream",
          "name": "stdout",
          "text": [
            "1/1 [==============================] - 0s 352ms/step\n",
            "1/1 [==============================] - 0s 23ms/step\n",
            "1/1 [==============================] - 0s 20ms/step\n",
            "1/1 [==============================] - 0s 20ms/step\n",
            "1/1 [==============================] - 0s 20ms/step\n",
            "1/1 [==============================] - 0s 25ms/step\n",
            "1/1 [==============================] - 0s 20ms/step\n",
            "1/1 [==============================] - 0s 20ms/step\n",
            "1/1 [==============================] - 0s 19ms/step\n",
            "1/1 [==============================] - 0s 19ms/step\n",
            "1/1 [==============================] - 0s 21ms/step\n",
            "1/1 [==============================] - 0s 20ms/step\n",
            "1/1 [==============================] - 0s 21ms/step\n",
            "1/1 [==============================] - 0s 20ms/step\n",
            "1/1 [==============================] - 0s 20ms/step\n",
            "1/1 [==============================] - 0s 21ms/step\n",
            "1/1 [==============================] - 0s 20ms/step\n",
            "1/1 [==============================] - 0s 22ms/step\n",
            "1/1 [==============================] - 0s 24ms/step\n",
            "1/1 [==============================] - 0s 34ms/step\n",
            "1/1 [==============================] - 0s 28ms/step\n",
            "1/1 [==============================] - 0s 33ms/step\n",
            "1/1 [==============================] - 0s 29ms/step\n",
            "1/1 [==============================] - 0s 44ms/step\n",
            "1/1 [==============================] - 0s 38ms/step\n",
            "1/1 [==============================] - 0s 53ms/step\n",
            "1/1 [==============================] - 0s 30ms/step\n",
            "1/1 [==============================] - 0s 56ms/step\n",
            "1/1 [==============================] - 0s 32ms/step\n",
            "1/1 [==============================] - 0s 30ms/step\n",
            "1/1 [==============================] - 0s 37ms/step\n",
            "1/1 [==============================] - 0s 36ms/step\n",
            "1/1 [==============================] - 0s 32ms/step\n",
            "1/1 [==============================] - 0s 74ms/step\n",
            "1/1 [==============================] - 0s 37ms/step\n",
            "1/1 [==============================] - 0s 44ms/step\n",
            "1/1 [==============================] - 0s 29ms/step\n",
            "1/1 [==============================] - 0s 34ms/step\n",
            "1/1 [==============================] - 0s 46ms/step\n",
            "1/1 [==============================] - 0s 36ms/step\n",
            "1/1 [==============================] - 0s 66ms/step\n",
            "1/1 [==============================] - 0s 40ms/step\n",
            "1/1 [==============================] - 0s 44ms/step\n",
            "1/1 [==============================] - 0s 41ms/step\n",
            "1/1 [==============================] - 0s 39ms/step\n",
            "1/1 [==============================] - 0s 63ms/step\n",
            "1/1 [==============================] - 0s 35ms/step\n",
            "1/1 [==============================] - 0s 52ms/step\n",
            "1/1 [==============================] - 0s 77ms/step\n",
            "1/1 [==============================] - 0s 54ms/step\n",
            "\n",
            "Generated Text:\n",
            " game like internet united state japan game often brightly painted logo aspect mehen enjoy claimed drawn consistency fired save feature part video game also used india motivation much across form several called medium engine engine reinforcement chinese mobile emphasizing support role since character mean world film early played platform like odyssey\n"
          ]
        }
      ]
    },
    {
      "cell_type": "code",
      "source": [
        "heading = Paragraph(f\"Model 2 : 3 RNN layers with filters size ( 64 , 32 ,32 )\", styles[\"Heading2\"])\n",
        "text = f\"RNN + RNN + RNN + Dense\"\n",
        "para1 = Paragraph(text, styles[\"Normal\"])\n",
        "text = f\"Generated: {generated_text}\"\n",
        "para2 = Paragraph(text, styles[\"Normal\"])\n",
        "pdf_components += [heading, Spacer(1, 20), para1, Spacer(1, 20), para2, Spacer(1, 20)]"
      ],
      "metadata": {
        "id": "xopGDpJpOCfK"
      },
      "execution_count": null,
      "outputs": []
    },
    {
      "cell_type": "markdown",
      "source": [
        "# Using GRU Layer"
      ],
      "metadata": {
        "id": "R0FECxHHjoC1"
      }
    },
    {
      "cell_type": "code",
      "source": [
        "from keras.models import Sequential\n",
        "from keras.layers import Embedding, GRU, Dense\n",
        "\n",
        "# Model building\n",
        "model_gru = Sequential()\n",
        "model_gru.add(Embedding(vocab_size, 50, input_length=seq_length-1))\n",
        "model_gru.add(GRU(128))  # Use GRU layer\n",
        "model_gru.add(Dense(vocab_size, activation='softmax'))\n",
        "\n",
        "model_gru.compile(optimizer='adam', loss='categorical_crossentropy', metrics=['accuracy'])\n",
        "\n",
        "# Train the model\n",
        "model_gru.fit(X, y, epochs=50, verbose=1)\n"
      ],
      "metadata": {
        "id": "OHVnpnPWjmF4",
        "colab": {
          "base_uri": "https://localhost:8080/"
        },
        "outputId": "5bd3b7e6-ef66-4c33-8478-337c51505276"
      },
      "execution_count": null,
      "outputs": [
        {
          "output_type": "stream",
          "name": "stdout",
          "text": [
            "Epoch 1/50\n",
            "269/269 [==============================] - 5s 11ms/step - loss: 7.2593 - accuracy: 0.0927\n",
            "Epoch 2/50\n",
            "269/269 [==============================] - 3s 11ms/step - loss: 6.6972 - accuracy: 0.0940\n",
            "Epoch 3/50\n",
            "269/269 [==============================] - 4s 15ms/step - loss: 6.5425 - accuracy: 0.0943\n",
            "Epoch 4/50\n",
            "269/269 [==============================] - 3s 13ms/step - loss: 6.3905 - accuracy: 0.0948\n",
            "Epoch 5/50\n",
            "269/269 [==============================] - 3s 11ms/step - loss: 6.2365 - accuracy: 0.0934\n",
            "Epoch 6/50\n",
            "269/269 [==============================] - 3s 11ms/step - loss: 6.0819 - accuracy: 0.0969\n",
            "Epoch 7/50\n",
            "269/269 [==============================] - 4s 13ms/step - loss: 5.9074 - accuracy: 0.0978\n",
            "Epoch 8/50\n",
            "269/269 [==============================] - 4s 14ms/step - loss: 5.7212 - accuracy: 0.1001\n",
            "Epoch 9/50\n",
            "269/269 [==============================] - 3s 11ms/step - loss: 5.5111 - accuracy: 0.1049\n",
            "Epoch 10/50\n",
            "269/269 [==============================] - 3s 11ms/step - loss: 5.2821 - accuracy: 0.1153\n",
            "Epoch 11/50\n",
            "269/269 [==============================] - 3s 12ms/step - loss: 5.0415 - accuracy: 0.1261\n",
            "Epoch 12/50\n",
            "269/269 [==============================] - 4s 15ms/step - loss: 4.7891 - accuracy: 0.1463\n",
            "Epoch 13/50\n",
            "269/269 [==============================] - 3s 11ms/step - loss: 4.5189 - accuracy: 0.1694\n",
            "Epoch 14/50\n",
            "269/269 [==============================] - 3s 11ms/step - loss: 4.2362 - accuracy: 0.2000\n",
            "Epoch 15/50\n",
            "269/269 [==============================] - 3s 11ms/step - loss: 3.9505 - accuracy: 0.2473\n",
            "Epoch 16/50\n",
            "269/269 [==============================] - 4s 16ms/step - loss: 3.6583 - accuracy: 0.3002\n",
            "Epoch 17/50\n",
            "269/269 [==============================] - 3s 11ms/step - loss: 3.3823 - accuracy: 0.3471\n",
            "Epoch 18/50\n",
            "269/269 [==============================] - 3s 11ms/step - loss: 3.1066 - accuracy: 0.4032\n",
            "Epoch 19/50\n",
            "269/269 [==============================] - 3s 11ms/step - loss: 2.8480 - accuracy: 0.4507\n",
            "Epoch 20/50\n",
            "269/269 [==============================] - 4s 16ms/step - loss: 2.6044 - accuracy: 0.5003\n",
            "Epoch 21/50\n",
            "269/269 [==============================] - 3s 11ms/step - loss: 2.3781 - accuracy: 0.5447\n",
            "Epoch 22/50\n",
            "269/269 [==============================] - 3s 11ms/step - loss: 2.1749 - accuracy: 0.5798\n",
            "Epoch 23/50\n",
            "269/269 [==============================] - 3s 11ms/step - loss: 1.9873 - accuracy: 0.6185\n",
            "Epoch 24/50\n",
            "269/269 [==============================] - 4s 15ms/step - loss: 1.8141 - accuracy: 0.6486\n",
            "Epoch 25/50\n",
            "269/269 [==============================] - 3s 12ms/step - loss: 1.6617 - accuracy: 0.6778\n",
            "Epoch 26/50\n",
            "269/269 [==============================] - 3s 11ms/step - loss: 1.5230 - accuracy: 0.7008\n",
            "Epoch 27/50\n",
            "269/269 [==============================] - 3s 11ms/step - loss: 1.4005 - accuracy: 0.7196\n",
            "Epoch 28/50\n",
            "269/269 [==============================] - 4s 14ms/step - loss: 1.2908 - accuracy: 0.7393\n",
            "Epoch 29/50\n",
            "269/269 [==============================] - 4s 14ms/step - loss: 1.1926 - accuracy: 0.7518\n",
            "Epoch 30/50\n",
            "269/269 [==============================] - 3s 11ms/step - loss: 1.1059 - accuracy: 0.7697\n",
            "Epoch 31/50\n",
            "269/269 [==============================] - 3s 11ms/step - loss: 1.0287 - accuracy: 0.7805\n",
            "Epoch 32/50\n",
            "269/269 [==============================] - 3s 13ms/step - loss: 0.9607 - accuracy: 0.7937\n",
            "Epoch 33/50\n",
            "269/269 [==============================] - 4s 15ms/step - loss: 0.9004 - accuracy: 0.8008\n",
            "Epoch 34/50\n",
            "269/269 [==============================] - 3s 11ms/step - loss: 0.8466 - accuracy: 0.8074\n",
            "Epoch 35/50\n",
            "269/269 [==============================] - 3s 11ms/step - loss: 0.8007 - accuracy: 0.8176\n",
            "Epoch 36/50\n",
            "269/269 [==============================] - 3s 13ms/step - loss: 0.7584 - accuracy: 0.8195\n",
            "Epoch 37/50\n",
            "269/269 [==============================] - 4s 15ms/step - loss: 0.7218 - accuracy: 0.8264\n",
            "Epoch 38/50\n",
            "269/269 [==============================] - 3s 11ms/step - loss: 0.6921 - accuracy: 0.8290\n",
            "Epoch 39/50\n",
            "269/269 [==============================] - 3s 11ms/step - loss: 0.6635 - accuracy: 0.8309\n",
            "Epoch 40/50\n",
            "269/269 [==============================] - 3s 13ms/step - loss: 0.6421 - accuracy: 0.8334\n",
            "Epoch 41/50\n",
            "269/269 [==============================] - 4s 15ms/step - loss: 0.6205 - accuracy: 0.8350\n",
            "Epoch 42/50\n",
            "269/269 [==============================] - 3s 11ms/step - loss: 0.6037 - accuracy: 0.8357\n",
            "Epoch 43/50\n",
            "269/269 [==============================] - 3s 11ms/step - loss: 0.5866 - accuracy: 0.8367\n",
            "Epoch 44/50\n",
            "269/269 [==============================] - 3s 11ms/step - loss: 0.5771 - accuracy: 0.8341\n",
            "Epoch 45/50\n",
            "269/269 [==============================] - 4s 16ms/step - loss: 0.5641 - accuracy: 0.8368\n",
            "Epoch 46/50\n",
            "269/269 [==============================] - 3s 11ms/step - loss: 0.5540 - accuracy: 0.8346\n",
            "Epoch 47/50\n",
            "269/269 [==============================] - 3s 11ms/step - loss: 0.5447 - accuracy: 0.8369\n",
            "Epoch 48/50\n",
            "269/269 [==============================] - 3s 11ms/step - loss: 0.5340 - accuracy: 0.8385\n",
            "Epoch 49/50\n",
            "269/269 [==============================] - 4s 16ms/step - loss: 0.5301 - accuracy: 0.8386\n",
            "Epoch 50/50\n",
            "269/269 [==============================] - 3s 11ms/step - loss: 0.5242 - accuracy: 0.8383\n"
          ]
        },
        {
          "output_type": "execute_result",
          "data": {
            "text/plain": [
              "<keras.src.callbacks.History at 0x7af1613c0910>"
            ]
          },
          "metadata": {},
          "execution_count": 16
        }
      ]
    },
    {
      "cell_type": "code",
      "source": [
        "# Text generation\n",
        "start_seq = \" game\"  # Start sequence for text generation\n",
        "generated_text = start_seq\n",
        "\n",
        "for i in range(50):  # Generate 50 words\n",
        "    token_list = tokenizer.texts_to_sequences([generated_text])[0]\n",
        "    token_list = pad_sequences([token_list], maxlen=seq_length-1, padding='pre')\n",
        "    predicted_probs = model_gru.predict(token_list)[0]\n",
        "    predicted_index = np.argmax(predicted_probs)\n",
        "\n",
        "    output_word = \"\"\n",
        "    for word, index in word_index.items():\n",
        "        if index == predicted_index:\n",
        "            output_word = word\n",
        "            break\n",
        "    generated_text += \" \" + output_word\n",
        "\n",
        "print(\"\\nGenerated Text:\")\n",
        "print(generated_text)"
      ],
      "metadata": {
        "id": "YYgl1Py-kHRv",
        "colab": {
          "base_uri": "https://localhost:8080/"
        },
        "outputId": "a206d3c0-cba0-4523-b920-412b152e1833"
      },
      "execution_count": null,
      "outputs": [
        {
          "output_type": "stream",
          "name": "stdout",
          "text": [
            "1/1 [==============================] - 0s 403ms/step\n",
            "1/1 [==============================] - 0s 22ms/step\n",
            "1/1 [==============================] - 0s 20ms/step\n",
            "1/1 [==============================] - 0s 20ms/step\n",
            "1/1 [==============================] - 0s 28ms/step\n",
            "1/1 [==============================] - 0s 20ms/step\n",
            "1/1 [==============================] - 0s 19ms/step\n",
            "1/1 [==============================] - 0s 21ms/step\n",
            "1/1 [==============================] - 0s 22ms/step\n",
            "1/1 [==============================] - 0s 21ms/step\n",
            "1/1 [==============================] - 0s 23ms/step\n",
            "1/1 [==============================] - 0s 19ms/step\n",
            "1/1 [==============================] - 0s 19ms/step\n",
            "1/1 [==============================] - 0s 22ms/step\n",
            "1/1 [==============================] - 0s 19ms/step\n",
            "1/1 [==============================] - 0s 21ms/step\n",
            "1/1 [==============================] - 0s 20ms/step\n",
            "1/1 [==============================] - 0s 19ms/step\n",
            "1/1 [==============================] - 0s 23ms/step\n",
            "1/1 [==============================] - 0s 21ms/step\n",
            "1/1 [==============================] - 0s 19ms/step\n",
            "1/1 [==============================] - 0s 21ms/step\n",
            "1/1 [==============================] - 0s 20ms/step\n",
            "1/1 [==============================] - 0s 21ms/step\n",
            "1/1 [==============================] - 0s 20ms/step\n",
            "1/1 [==============================] - 0s 19ms/step\n",
            "1/1 [==============================] - 0s 23ms/step\n",
            "1/1 [==============================] - 0s 20ms/step\n",
            "1/1 [==============================] - 0s 23ms/step\n",
            "1/1 [==============================] - 0s 20ms/step\n",
            "1/1 [==============================] - 0s 20ms/step\n",
            "1/1 [==============================] - 0s 21ms/step\n",
            "1/1 [==============================] - 0s 20ms/step\n",
            "1/1 [==============================] - 0s 22ms/step\n",
            "1/1 [==============================] - 0s 22ms/step\n",
            "1/1 [==============================] - 0s 20ms/step\n",
            "1/1 [==============================] - 0s 23ms/step\n",
            "1/1 [==============================] - 0s 21ms/step\n",
            "1/1 [==============================] - 0s 19ms/step\n",
            "1/1 [==============================] - 0s 21ms/step\n",
            "1/1 [==============================] - 0s 25ms/step\n",
            "1/1 [==============================] - 0s 21ms/step\n",
            "1/1 [==============================] - 0s 20ms/step\n",
            "1/1 [==============================] - 0s 20ms/step\n",
            "1/1 [==============================] - 0s 30ms/step\n",
            "1/1 [==============================] - 0s 21ms/step\n",
            "1/1 [==============================] - 0s 31ms/step\n",
            "1/1 [==============================] - 0s 20ms/step\n",
            "1/1 [==============================] - 0s 21ms/step\n",
            "1/1 [==============================] - 0s 25ms/step\n",
            "\n",
            "Generated Text:\n",
            " game intermediate point level offer save point player create saved game storage medium restart game lose life need stop game restart later time also form passage written reentered title screen give player chance review option number player larp usually larger tabletop roleplaying game also used therapy setting help individual develop behavioral\n"
          ]
        }
      ]
    },
    {
      "cell_type": "code",
      "source": [
        "heading = Paragraph(f\"Model 3\", styles[\"Heading2\"])\n",
        "text = f\"GRU + Dense\"\n",
        "para1 = Paragraph(text, styles[\"Normal\"])\n",
        "text = f\"Generated: {generated_text}\"\n",
        "para2 = Paragraph(text, styles[\"Normal\"])\n",
        "pdf_components += [heading, Spacer(1, 20), para1, Spacer(1, 20), para2, Spacer(1, 20)]"
      ],
      "metadata": {
        "id": "oFmK-0wVlWXN"
      },
      "execution_count": null,
      "outputs": []
    },
    {
      "cell_type": "markdown",
      "source": [
        "# RNN+GRU"
      ],
      "metadata": {
        "id": "QIDNaF8mj1f4"
      }
    },
    {
      "cell_type": "code",
      "source": [
        "from keras.models import Model\n",
        "from keras.layers import Input, Embedding, SimpleRNN, GRU, concatenate, Dense\n",
        "\n",
        "# Define input shape\n",
        "input_layer = Input(shape=(seq_length-1,))\n",
        "\n",
        "# Embedding layer\n",
        "embedding_layer = Embedding(vocab_size, 50, input_length=seq_length-1)(input_layer)\n",
        "\n",
        "# RNN and GRU layers\n",
        "rnn_layer = SimpleRNN(128)(embedding_layer)\n",
        "gru_layer = GRU(128)(embedding_layer)\n",
        "\n",
        "# Concatenate outputs from both RNN and GRU layers\n",
        "concat_layer = concatenate([rnn_layer, gru_layer])\n",
        "\n",
        "# Dense layer for prediction\n",
        "output_layer = Dense(vocab_size, activation='softmax')(concat_layer)\n",
        "\n",
        "# Create the model\n",
        "model = Model(inputs=input_layer, outputs=output_layer)\n",
        "\n",
        "model.compile(optimizer='adam', loss='categorical_crossentropy', metrics=['accuracy'])\n",
        "\n",
        "# Train the model\n",
        "model.fit(X, y, epochs=50, verbose=1)\n"
      ],
      "metadata": {
        "id": "0sFx2vdtjxaC",
        "colab": {
          "base_uri": "https://localhost:8080/"
        },
        "outputId": "ff2c0751-723c-4228-cac2-a10f6b0dc7dc"
      },
      "execution_count": null,
      "outputs": [
        {
          "output_type": "stream",
          "name": "stdout",
          "text": [
            "Epoch 1/50\n",
            "269/269 [==============================] - 8s 18ms/step - loss: 7.2220 - accuracy: 0.0913\n",
            "Epoch 2/50\n",
            "269/269 [==============================] - 4s 15ms/step - loss: 6.6339 - accuracy: 0.0949\n",
            "Epoch 3/50\n",
            "269/269 [==============================] - 5s 19ms/step - loss: 6.3841 - accuracy: 0.0950\n",
            "Epoch 4/50\n",
            "269/269 [==============================] - 6s 21ms/step - loss: 6.0846 - accuracy: 0.0984\n",
            "Epoch 5/50\n",
            "269/269 [==============================] - 5s 17ms/step - loss: 5.6437 - accuracy: 0.1092\n",
            "Epoch 6/50\n",
            "269/269 [==============================] - 6s 21ms/step - loss: 5.0408 - accuracy: 0.1452\n",
            "Epoch 7/50\n",
            "269/269 [==============================] - 4s 16ms/step - loss: 4.3126 - accuracy: 0.2330\n",
            "Epoch 8/50\n",
            "269/269 [==============================] - 4s 15ms/step - loss: 3.5645 - accuracy: 0.3393\n",
            "Epoch 9/50\n",
            "269/269 [==============================] - 6s 22ms/step - loss: 2.8794 - accuracy: 0.4464\n",
            "Epoch 10/50\n",
            "269/269 [==============================] - 4s 15ms/step - loss: 2.3332 - accuracy: 0.5338\n",
            "Epoch 11/50\n",
            "269/269 [==============================] - 4s 16ms/step - loss: 1.9302 - accuracy: 0.6065\n",
            "Epoch 12/50\n",
            "269/269 [==============================] - 5s 20ms/step - loss: 1.6319 - accuracy: 0.6589\n",
            "Epoch 13/50\n",
            "269/269 [==============================] - 4s 16ms/step - loss: 1.4099 - accuracy: 0.6967\n",
            "Epoch 14/50\n",
            "269/269 [==============================] - 5s 17ms/step - loss: 1.2312 - accuracy: 0.7329\n",
            "Epoch 15/50\n",
            "269/269 [==============================] - 5s 19ms/step - loss: 1.0959 - accuracy: 0.7578\n",
            "Epoch 16/50\n",
            "269/269 [==============================] - 4s 15ms/step - loss: 0.9871 - accuracy: 0.7777\n",
            "Epoch 17/50\n",
            "269/269 [==============================] - 5s 18ms/step - loss: 0.9056 - accuracy: 0.7904\n",
            "Epoch 18/50\n",
            "269/269 [==============================] - 5s 19ms/step - loss: 0.8397 - accuracy: 0.8023\n",
            "Epoch 19/50\n",
            "269/269 [==============================] - 4s 15ms/step - loss: 0.7901 - accuracy: 0.8116\n",
            "Epoch 20/50\n",
            "269/269 [==============================] - 5s 18ms/step - loss: 0.7487 - accuracy: 0.8153\n",
            "Epoch 21/50\n",
            "269/269 [==============================] - 5s 18ms/step - loss: 0.7156 - accuracy: 0.8219\n",
            "Epoch 22/50\n",
            "269/269 [==============================] - 4s 15ms/step - loss: 0.6880 - accuracy: 0.8221\n",
            "Epoch 23/50\n",
            "269/269 [==============================] - 5s 19ms/step - loss: 0.6676 - accuracy: 0.8259\n",
            "Epoch 24/50\n",
            "269/269 [==============================] - 5s 17ms/step - loss: 0.6511 - accuracy: 0.8325\n",
            "Epoch 25/50\n",
            "269/269 [==============================] - 4s 15ms/step - loss: 0.6308 - accuracy: 0.8327\n",
            "Epoch 26/50\n",
            "269/269 [==============================] - 5s 20ms/step - loss: 0.6245 - accuracy: 0.8298\n",
            "Epoch 27/50\n",
            "269/269 [==============================] - 5s 18ms/step - loss: 0.6093 - accuracy: 0.8343\n",
            "Epoch 28/50\n",
            "269/269 [==============================] - 4s 16ms/step - loss: 0.6000 - accuracy: 0.8341\n",
            "Epoch 29/50\n",
            "269/269 [==============================] - 6s 21ms/step - loss: 0.5942 - accuracy: 0.8346\n",
            "Epoch 30/50\n",
            "269/269 [==============================] - 4s 16ms/step - loss: 0.5893 - accuracy: 0.8353\n",
            "Epoch 31/50\n",
            "269/269 [==============================] - 4s 16ms/step - loss: 0.5860 - accuracy: 0.8332\n",
            "Epoch 32/50\n",
            "269/269 [==============================] - 6s 21ms/step - loss: 0.5776 - accuracy: 0.8347\n",
            "Epoch 33/50\n",
            "269/269 [==============================] - 4s 16ms/step - loss: 0.5724 - accuracy: 0.8375\n",
            "Epoch 34/50\n",
            "269/269 [==============================] - 4s 16ms/step - loss: 0.5652 - accuracy: 0.8378\n",
            "Epoch 35/50\n",
            "269/269 [==============================] - 6s 21ms/step - loss: 0.5661 - accuracy: 0.8353\n",
            "Epoch 36/50\n",
            "269/269 [==============================] - 4s 16ms/step - loss: 0.5600 - accuracy: 0.8368\n",
            "Epoch 37/50\n",
            "269/269 [==============================] - 4s 16ms/step - loss: 0.5557 - accuracy: 0.8364\n",
            "Epoch 38/50\n",
            "269/269 [==============================] - 6s 22ms/step - loss: 0.5522 - accuracy: 0.8384\n",
            "Epoch 39/50\n",
            "269/269 [==============================] - 4s 16ms/step - loss: 0.5540 - accuracy: 0.8376\n",
            "Epoch 40/50\n",
            "269/269 [==============================] - 4s 16ms/step - loss: 0.5457 - accuracy: 0.8379\n",
            "Epoch 41/50\n",
            "269/269 [==============================] - 6s 21ms/step - loss: 0.5476 - accuracy: 0.8382\n",
            "Epoch 42/50\n",
            "269/269 [==============================] - 4s 16ms/step - loss: 0.5405 - accuracy: 0.8386\n",
            "Epoch 43/50\n",
            "269/269 [==============================] - 4s 15ms/step - loss: 0.5418 - accuracy: 0.8386\n",
            "Epoch 44/50\n",
            "269/269 [==============================] - 6s 22ms/step - loss: 0.5376 - accuracy: 0.8387\n",
            "Epoch 45/50\n",
            "269/269 [==============================] - 4s 16ms/step - loss: 0.5388 - accuracy: 0.8385\n",
            "Epoch 46/50\n",
            "269/269 [==============================] - 4s 17ms/step - loss: 0.5365 - accuracy: 0.8375\n",
            "Epoch 47/50\n",
            "269/269 [==============================] - 6s 21ms/step - loss: 0.5369 - accuracy: 0.8365\n",
            "Epoch 48/50\n",
            "269/269 [==============================] - 4s 16ms/step - loss: 0.5371 - accuracy: 0.8358\n",
            "Epoch 49/50\n",
            "269/269 [==============================] - 4s 17ms/step - loss: 0.5292 - accuracy: 0.8385\n",
            "Epoch 50/50\n",
            "269/269 [==============================] - 6s 21ms/step - loss: 0.5314 - accuracy: 0.8363\n"
          ]
        },
        {
          "output_type": "execute_result",
          "data": {
            "text/plain": [
              "<keras.src.callbacks.History at 0x7af16010c550>"
            ]
          },
          "metadata": {},
          "execution_count": 19
        }
      ]
    },
    {
      "cell_type": "code",
      "source": [
        "# Text generation\n",
        "start_seq = \" game\"  # Start sequence for text generation\n",
        "generated_text = start_seq\n",
        "\n",
        "for i in range(50):  # Generate 50 words\n",
        "    token_list = tokenizer.texts_to_sequences([generated_text])[0]\n",
        "    token_list = pad_sequences([token_list], maxlen=seq_length-1, padding='pre')\n",
        "    predicted_probs = model.predict(token_list)[0]\n",
        "    predicted_index = np.argmax(predicted_probs)\n",
        "\n",
        "    output_word = \"\"\n",
        "    for word, index in word_index.items():\n",
        "        if index == predicted_index:\n",
        "            output_word = word\n",
        "            break\n",
        "    generated_text += \" \" + output_word\n",
        "\n",
        "print(\"\\nGenerated Text:\")\n",
        "print(generated_text)"
      ],
      "metadata": {
        "id": "7VUfN4rJlcKJ",
        "colab": {
          "base_uri": "https://localhost:8080/"
        },
        "outputId": "941b00df-4eae-4e16-884f-2d32953671cc"
      },
      "execution_count": null,
      "outputs": [
        {
          "output_type": "stream",
          "name": "stdout",
          "text": [
            "1/1 [==============================] - 1s 558ms/step\n",
            "1/1 [==============================] - 0s 28ms/step\n",
            "1/1 [==============================] - 0s 23ms/step\n",
            "1/1 [==============================] - 0s 21ms/step\n",
            "1/1 [==============================] - 0s 25ms/step\n",
            "1/1 [==============================] - 0s 20ms/step\n",
            "1/1 [==============================] - 0s 19ms/step\n",
            "1/1 [==============================] - 0s 20ms/step\n",
            "1/1 [==============================] - 0s 21ms/step\n",
            "1/1 [==============================] - 0s 20ms/step\n",
            "1/1 [==============================] - 0s 20ms/step\n",
            "1/1 [==============================] - 0s 21ms/step\n",
            "1/1 [==============================] - 0s 20ms/step\n",
            "1/1 [==============================] - 0s 23ms/step\n",
            "1/1 [==============================] - 0s 20ms/step\n",
            "1/1 [==============================] - 0s 19ms/step\n",
            "1/1 [==============================] - 0s 23ms/step\n",
            "1/1 [==============================] - 0s 20ms/step\n",
            "1/1 [==============================] - 0s 23ms/step\n",
            "1/1 [==============================] - 0s 22ms/step\n",
            "1/1 [==============================] - 0s 20ms/step\n",
            "1/1 [==============================] - 0s 20ms/step\n",
            "1/1 [==============================] - 0s 20ms/step\n",
            "1/1 [==============================] - 0s 21ms/step\n",
            "1/1 [==============================] - 0s 20ms/step\n",
            "1/1 [==============================] - 0s 20ms/step\n",
            "1/1 [==============================] - 0s 19ms/step\n",
            "1/1 [==============================] - 0s 21ms/step\n",
            "1/1 [==============================] - 0s 20ms/step\n",
            "1/1 [==============================] - 0s 21ms/step\n",
            "1/1 [==============================] - 0s 20ms/step\n",
            "1/1 [==============================] - 0s 20ms/step\n",
            "1/1 [==============================] - 0s 20ms/step\n",
            "1/1 [==============================] - 0s 23ms/step\n",
            "1/1 [==============================] - 0s 23ms/step\n",
            "1/1 [==============================] - 0s 20ms/step\n",
            "1/1 [==============================] - 0s 19ms/step\n",
            "1/1 [==============================] - 0s 22ms/step\n",
            "1/1 [==============================] - 0s 20ms/step\n",
            "1/1 [==============================] - 0s 21ms/step\n",
            "1/1 [==============================] - 0s 26ms/step\n",
            "1/1 [==============================] - 0s 26ms/step\n",
            "1/1 [==============================] - 0s 20ms/step\n",
            "1/1 [==============================] - 0s 20ms/step\n",
            "1/1 [==============================] - 0s 20ms/step\n",
            "1/1 [==============================] - 0s 19ms/step\n",
            "1/1 [==============================] - 0s 23ms/step\n",
            "1/1 [==============================] - 0s 21ms/step\n",
            "1/1 [==============================] - 0s 20ms/step\n",
            "1/1 [==============================] - 0s 20ms/step\n",
            "\n",
            "Generated Text:\n",
            " game platform considered programmable mean read play multiple game distributed different type medium format including cdrom flash memory card furthermore digital distribution including newer mobile gaming marker readilyavailable lowcost development tool platform game played feature color depth refresh rate frame rate screen resolution combination limitation game platform considered programmable mean read\n"
          ]
        }
      ]
    },
    {
      "cell_type": "code",
      "source": [
        "heading = Paragraph(f\"Model 4\", styles[\"Heading2\"])\n",
        "text = f\"RNN + GRU + Dense\"\n",
        "para1 = Paragraph(text, styles[\"Normal\"])\n",
        "text = f\"Generated: {generated_text}\"\n",
        "para2 = Paragraph(text, styles[\"Normal\"])\n",
        "pdf_components += [heading, Spacer(1, 20), para1, Spacer(1, 20), para2, Spacer(1, 20)]"
      ],
      "metadata": {
        "id": "w2EMSO0VldQf"
      },
      "execution_count": null,
      "outputs": []
    },
    {
      "cell_type": "markdown",
      "source": [
        "# LSTM"
      ],
      "metadata": {
        "id": "X89IMTQG3SyN"
      }
    },
    {
      "cell_type": "code",
      "execution_count": null,
      "metadata": {
        "colab": {
          "base_uri": "https://localhost:8080/"
        },
        "id": "UjA5GTGcmNlq",
        "outputId": "354ba0e8-4ca6-4df3-f228-f8329e8c125d"
      },
      "outputs": [
        {
          "output_type": "stream",
          "name": "stdout",
          "text": [
            "Epoch 1/50\n",
            "269/269 [==============================] - 7s 17ms/step - loss: 7.3074 - accuracy: 0.0926\n",
            "Epoch 2/50\n",
            "269/269 [==============================] - 3s 12ms/step - loss: 6.7098 - accuracy: 0.0940\n",
            "Epoch 3/50\n",
            "269/269 [==============================] - 3s 12ms/step - loss: 6.5884 - accuracy: 0.0940\n",
            "Epoch 4/50\n",
            "269/269 [==============================] - 3s 13ms/step - loss: 6.4755 - accuracy: 0.0950\n",
            "Epoch 5/50\n",
            "269/269 [==============================] - 4s 17ms/step - loss: 6.3583 - accuracy: 0.0949\n",
            "Epoch 6/50\n",
            "269/269 [==============================] - 3s 12ms/step - loss: 6.2425 - accuracy: 0.0947\n",
            "Epoch 7/50\n",
            "269/269 [==============================] - 3s 11ms/step - loss: 6.1204 - accuracy: 0.0948\n",
            "Epoch 8/50\n",
            "269/269 [==============================] - 4s 15ms/step - loss: 5.9935 - accuracy: 0.0958\n",
            "Epoch 9/50\n",
            "269/269 [==============================] - 7s 25ms/step - loss: 5.8583 - accuracy: 0.0973\n",
            "Epoch 10/50\n",
            "269/269 [==============================] - 4s 16ms/step - loss: 5.7146 - accuracy: 0.0986\n",
            "Epoch 11/50\n",
            "269/269 [==============================] - 4s 14ms/step - loss: 5.5589 - accuracy: 0.1014\n",
            "Epoch 12/50\n",
            "269/269 [==============================] - 4s 15ms/step - loss: 5.3923 - accuracy: 0.1050\n",
            "Epoch 13/50\n",
            "269/269 [==============================] - 3s 11ms/step - loss: 5.2141 - accuracy: 0.1117\n",
            "Epoch 14/50\n",
            "269/269 [==============================] - 3s 11ms/step - loss: 5.0280 - accuracy: 0.1255\n",
            "Epoch 15/50\n",
            "269/269 [==============================] - 4s 14ms/step - loss: 4.8398 - accuracy: 0.1345\n",
            "Epoch 16/50\n",
            "269/269 [==============================] - 4s 14ms/step - loss: 4.6489 - accuracy: 0.1504\n",
            "Epoch 17/50\n",
            "269/269 [==============================] - 3s 12ms/step - loss: 4.4517 - accuracy: 0.1715\n",
            "Epoch 18/50\n",
            "269/269 [==============================] - 3s 12ms/step - loss: 4.2521 - accuracy: 0.1959\n",
            "Epoch 19/50\n",
            "269/269 [==============================] - 4s 15ms/step - loss: 4.0510 - accuracy: 0.2259\n",
            "Epoch 20/50\n",
            "269/269 [==============================] - 4s 14ms/step - loss: 3.8492 - accuracy: 0.2638\n",
            "Epoch 21/50\n",
            "269/269 [==============================] - 3s 12ms/step - loss: 3.6525 - accuracy: 0.2972\n",
            "Epoch 22/50\n",
            "269/269 [==============================] - 3s 11ms/step - loss: 3.4568 - accuracy: 0.3364\n",
            "Epoch 23/50\n",
            "269/269 [==============================] - 4s 16ms/step - loss: 3.2665 - accuracy: 0.3770\n",
            "Epoch 24/50\n",
            "269/269 [==============================] - 4s 13ms/step - loss: 3.0814 - accuracy: 0.4088\n",
            "Epoch 25/50\n",
            "269/269 [==============================] - 5s 20ms/step - loss: 2.9030 - accuracy: 0.4470\n",
            "Epoch 26/50\n",
            "269/269 [==============================] - 6s 22ms/step - loss: 2.7289 - accuracy: 0.4873\n",
            "Epoch 27/50\n",
            "269/269 [==============================] - 3s 12ms/step - loss: 2.5635 - accuracy: 0.5165\n",
            "Epoch 28/50\n",
            "269/269 [==============================] - 3s 12ms/step - loss: 2.4071 - accuracy: 0.5502\n",
            "Epoch 29/50\n",
            "269/269 [==============================] - 3s 12ms/step - loss: 2.2585 - accuracy: 0.5772\n",
            "Epoch 30/50\n",
            "269/269 [==============================] - 5s 17ms/step - loss: 2.1179 - accuracy: 0.6058\n",
            "Epoch 31/50\n",
            "269/269 [==============================] - 3s 12ms/step - loss: 1.9850 - accuracy: 0.6282\n",
            "Epoch 32/50\n",
            "269/269 [==============================] - 3s 12ms/step - loss: 1.8639 - accuracy: 0.6465\n",
            "Epoch 33/50\n",
            "269/269 [==============================] - 3s 12ms/step - loss: 1.7476 - accuracy: 0.6659\n",
            "Epoch 34/50\n",
            "269/269 [==============================] - 4s 16ms/step - loss: 1.6416 - accuracy: 0.6861\n",
            "Epoch 35/50\n",
            "269/269 [==============================] - 3s 12ms/step - loss: 1.5415 - accuracy: 0.7031\n",
            "Epoch 36/50\n",
            "269/269 [==============================] - 3s 12ms/step - loss: 1.4492 - accuracy: 0.7203\n",
            "Epoch 37/50\n",
            "269/269 [==============================] - 4s 13ms/step - loss: 1.3627 - accuracy: 0.7343\n",
            "Epoch 38/50\n",
            "269/269 [==============================] - 4s 15ms/step - loss: 1.2854 - accuracy: 0.7470\n",
            "Epoch 39/50\n",
            "269/269 [==============================] - 3s 12ms/step - loss: 1.2101 - accuracy: 0.7635\n",
            "Epoch 40/50\n",
            "269/269 [==============================] - 3s 12ms/step - loss: 1.1431 - accuracy: 0.7680\n",
            "Epoch 41/50\n",
            "269/269 [==============================] - 4s 13ms/step - loss: 1.0813 - accuracy: 0.7797\n",
            "Epoch 42/50\n",
            "269/269 [==============================] - 4s 15ms/step - loss: 1.0249 - accuracy: 0.7865\n",
            "Epoch 43/50\n",
            "269/269 [==============================] - 3s 12ms/step - loss: 0.9697 - accuracy: 0.7967\n",
            "Epoch 44/50\n",
            "269/269 [==============================] - 3s 12ms/step - loss: 0.9220 - accuracy: 0.8027\n",
            "Epoch 45/50\n",
            "269/269 [==============================] - 4s 15ms/step - loss: 0.8781 - accuracy: 0.8087\n",
            "Epoch 46/50\n",
            "269/269 [==============================] - 4s 14ms/step - loss: 0.8368 - accuracy: 0.8103\n",
            "Epoch 47/50\n",
            "269/269 [==============================] - 3s 12ms/step - loss: 0.7990 - accuracy: 0.8156\n",
            "Epoch 48/50\n",
            "269/269 [==============================] - 3s 12ms/step - loss: 0.7666 - accuracy: 0.8199\n",
            "Epoch 49/50\n",
            "269/269 [==============================] - 4s 16ms/step - loss: 0.7345 - accuracy: 0.8250\n",
            "Epoch 50/50\n",
            "269/269 [==============================] - 3s 13ms/step - loss: 0.7065 - accuracy: 0.8254\n"
          ]
        },
        {
          "output_type": "execute_result",
          "data": {
            "text/plain": [
              "<keras.src.callbacks.History at 0x7af1618fd4e0>"
            ]
          },
          "metadata": {},
          "execution_count": 22
        }
      ],
      "source": [
        "\n",
        "# Model building\n",
        "model = Sequential()\n",
        "model.add(Embedding(vocab_size, 50, input_length=seq_length-1))\n",
        "model.add(LSTM(128))\n",
        "model.add(Dense(vocab_size, activation='softmax'))\n",
        "\n",
        "model.compile(optimizer='adam', loss='categorical_crossentropy', metrics=['accuracy'])\n",
        "\n",
        "# Train the model\n",
        "model.fit(X, y, epochs=50, verbose=1)"
      ]
    },
    {
      "cell_type": "code",
      "execution_count": null,
      "metadata": {
        "colab": {
          "base_uri": "https://localhost:8080/"
        },
        "id": "Ve_44GBzlo50",
        "outputId": "fbede918-0963-41b2-dfa2-bdcd8d98374d"
      },
      "outputs": [
        {
          "output_type": "stream",
          "name": "stdout",
          "text": [
            "1/1 [==============================] - 0s 399ms/step\n",
            "1/1 [==============================] - 0s 20ms/step\n",
            "1/1 [==============================] - 0s 20ms/step\n",
            "1/1 [==============================] - 0s 20ms/step\n",
            "1/1 [==============================] - 0s 21ms/step\n",
            "1/1 [==============================] - 0s 24ms/step\n",
            "1/1 [==============================] - 0s 19ms/step\n",
            "1/1 [==============================] - 0s 20ms/step\n",
            "1/1 [==============================] - 0s 24ms/step\n",
            "1/1 [==============================] - 0s 20ms/step\n",
            "1/1 [==============================] - 0s 20ms/step\n",
            "1/1 [==============================] - 0s 19ms/step\n",
            "1/1 [==============================] - 0s 20ms/step\n",
            "1/1 [==============================] - 0s 20ms/step\n",
            "1/1 [==============================] - 0s 24ms/step\n",
            "1/1 [==============================] - 0s 23ms/step\n",
            "1/1 [==============================] - 0s 20ms/step\n",
            "1/1 [==============================] - 0s 19ms/step\n",
            "1/1 [==============================] - 0s 22ms/step\n",
            "1/1 [==============================] - 0s 20ms/step\n",
            "1/1 [==============================] - 0s 21ms/step\n",
            "1/1 [==============================] - 0s 20ms/step\n",
            "1/1 [==============================] - 0s 20ms/step\n",
            "1/1 [==============================] - 0s 20ms/step\n",
            "1/1 [==============================] - 0s 20ms/step\n",
            "1/1 [==============================] - 0s 22ms/step\n",
            "1/1 [==============================] - 0s 22ms/step\n",
            "1/1 [==============================] - 0s 25ms/step\n",
            "1/1 [==============================] - 0s 19ms/step\n",
            "1/1 [==============================] - 0s 22ms/step\n",
            "1/1 [==============================] - 0s 20ms/step\n",
            "1/1 [==============================] - 0s 22ms/step\n",
            "1/1 [==============================] - 0s 20ms/step\n",
            "1/1 [==============================] - 0s 23ms/step\n",
            "1/1 [==============================] - 0s 19ms/step\n",
            "1/1 [==============================] - 0s 21ms/step\n",
            "1/1 [==============================] - 0s 23ms/step\n",
            "1/1 [==============================] - 0s 20ms/step\n",
            "1/1 [==============================] - 0s 21ms/step\n",
            "1/1 [==============================] - 0s 21ms/step\n",
            "1/1 [==============================] - 0s 21ms/step\n",
            "1/1 [==============================] - 0s 22ms/step\n",
            "1/1 [==============================] - 0s 21ms/step\n",
            "1/1 [==============================] - 0s 21ms/step\n",
            "1/1 [==============================] - 0s 31ms/step\n",
            "1/1 [==============================] - 0s 20ms/step\n",
            "1/1 [==============================] - 0s 20ms/step\n",
            "1/1 [==============================] - 0s 20ms/step\n",
            "1/1 [==============================] - 0s 20ms/step\n",
            "1/1 [==============================] - 0s 24ms/step\n",
            "\n",
            "Generated Text:\n",
            " game developed game platform support portability still create specialized feature direct control game distribution platform method continue used console manufacturer produce console hardware handheld game console game especially game strong rochester york contains largest collection electronic game strong rochester york contains largest collection electronic game strong rochester york contains largest collection\n"
          ]
        }
      ],
      "source": [
        "# Text generation\n",
        "start_seq = \" game\"  # Start sequence for text generation\n",
        "generated_text = start_seq\n",
        "\n",
        "for i in range(50):  # Generate 50 words\n",
        "    token_list = tokenizer.texts_to_sequences([generated_text])[0]\n",
        "    token_list = pad_sequences([token_list], maxlen=seq_length-1, padding='pre')\n",
        "    predicted_probs = model.predict(token_list)[0]\n",
        "    predicted_index = np.argmax(predicted_probs)\n",
        "\n",
        "    output_word = \"\"\n",
        "    for word, index in word_index.items():\n",
        "        if index == predicted_index:\n",
        "            output_word = word\n",
        "            break\n",
        "    generated_text += \" \" + output_word\n",
        "\n",
        "print(\"\\nGenerated Text:\")\n",
        "print(generated_text)\n"
      ]
    },
    {
      "cell_type": "code",
      "source": [
        "heading = Paragraph(f\"Model 5\", styles[\"Heading2\"])\n",
        "text = f\"LSTM + Dense\"\n",
        "para1 = Paragraph(text, styles[\"Normal\"])\n",
        "text = f\"Generated: {generated_text}\"\n",
        "para2 = Paragraph(text, styles[\"Normal\"])\n",
        "pdf_components += [heading, Spacer(1, 20), para1, Spacer(1, 20), para2, Spacer(1, 20)]"
      ],
      "metadata": {
        "id": "hOkuPsXs4-To"
      },
      "execution_count": null,
      "outputs": []
    },
    {
      "cell_type": "markdown",
      "source": [
        "# Character generation"
      ],
      "metadata": {
        "id": "MwsGS4vb5QgI"
      }
    },
    {
      "cell_type": "code",
      "execution_count": null,
      "metadata": {
        "id": "e9s4MQ73tF7E"
      },
      "outputs": [],
      "source": [
        "import numpy as np\n",
        "from keras.models import Sequential\n",
        "from keras.layers import LSTM, Dense\n",
        "from keras.optimizers import Adam\n",
        "from keras.preprocessing.sequence import pad_sequences\n",
        "from nltk.tokenize import word_tokenize\n",
        "\n",
        "# Create character-level sequences\n",
        "chars = sorted(list(set(corpus)))\n",
        "char_indices = dict((c, i) for i, c in enumerate(chars))\n",
        "indices_char = dict((i, c) for i, c in enumerate(chars))\n",
        "\n",
        "# Generate input sequences and the corresponding outputs\n",
        "maxlen = 40\n",
        "step = 3\n",
        "sentences = []\n",
        "next_chars = []\n",
        "for i in range(0, len(corpus) - maxlen, step):\n",
        "    sentences.append(corpus[i:i + maxlen]) # Append the current sequence of max_sequence_len characters to sentences list\n",
        "    next_chars.append(corpus[i + maxlen])# Append the next character after the current sequence to next_chars list\n",
        "\n",
        "# Vectorization\n",
        "x = np.zeros((len(sentences), maxlen, len(chars)), dtype=bool)\n",
        "y = np.zeros((len(sentences), len(chars)), dtype=bool)\n",
        "for i, sentence in enumerate(sentences):\n",
        "    for t, char in enumerate(sentence):\n",
        "        x[i, t, char_indices[char]] = 1\n",
        "    y[i, char_indices[next_chars[i]]] = 1"
      ]
    },
    {
      "cell_type": "code",
      "source": [
        "print(len(chars))"
      ],
      "metadata": {
        "id": "vYdYSmGjh5ci",
        "colab": {
          "base_uri": "https://localhost:8080/"
        },
        "outputId": "e0aad42d-b845-4b05-a04b-17fc4c98b33d"
      },
      "execution_count": null,
      "outputs": [
        {
          "output_type": "stream",
          "name": "stdout",
          "text": [
            "27\n"
          ]
        }
      ]
    },
    {
      "cell_type": "code",
      "source": [
        "def sample(preds, temperature=1.0):\n",
        "    preds = np.asarray(preds).astype('float64')\n",
        "    preds = np.log(preds) / temperature\n",
        "    exp_preds = np.exp(preds)\n",
        "    preds = exp_preds / np.sum(exp_preds)\n",
        "    probas = np.random.multinomial(1, preds, 1)\n",
        "    return np.argmax(probas)\n",
        "\n",
        "# Text generation\n",
        "def generate_text(length,model,diversity):\n",
        "    start_index = np.random.randint(0, len(corpus) - maxlen - 1)\n",
        "    generated = ''\n",
        "    sentence = corpus[start_index:start_index + maxlen]\n",
        "    generated += sentence\n",
        "    for _ in range(length):\n",
        "        x_pred = np.zeros((1, maxlen, len(chars)))\n",
        "        for t, char in enumerate(sentence):\n",
        "            x_pred[0, t, char_indices[char]] = 1\n",
        "\n",
        "        preds = model.predict(x_pred, verbose=0)[0]\n",
        "        next_index = sample(preds, diversity)\n",
        "        next_char = indices_char[next_index]\n",
        "\n",
        "        generated += next_char\n",
        "        sentence = sentence[1:] + next_char\n",
        "    return generated"
      ],
      "metadata": {
        "id": "kbgrf8FaP2Ck"
      },
      "execution_count": null,
      "outputs": []
    },
    {
      "cell_type": "markdown",
      "source": [
        "# **One RNN layer**"
      ],
      "metadata": {
        "id": "nHXncVIKPdpf"
      }
    },
    {
      "cell_type": "code",
      "source": [
        "# Model building with SimpleRNN (RNN)\n",
        "model_rnn = Sequential()\n",
        "model_rnn.add(SimpleRNN(256, input_shape=(maxlen, len(chars))))\n",
        "model_rnn.add(Dense(len(chars), activation='softmax'))\n",
        "\n",
        "optimizer = Adam(lr=0.001)\n",
        "model_rnn.compile(optimizer=optimizer, loss='categorical_crossentropy', metrics=['accuracy'])\n",
        "\n",
        "# Train the model with SimpleRNN (RNN)\n",
        "model_rnn.fit(x, y, batch_size=64, epochs=100)"
      ],
      "metadata": {
        "colab": {
          "base_uri": "https://localhost:8080/"
        },
        "id": "Xtl3OZA49GwY",
        "outputId": "6d63fa78-61de-4b93-d0aa-076e3655061d"
      },
      "execution_count": null,
      "outputs": [
        {
          "output_type": "stream",
          "name": "stderr",
          "text": [
            "WARNING:absl:`lr` is deprecated in Keras optimizer, please use `learning_rate` or use the legacy optimizer, e.g.,tf.keras.optimizers.legacy.Adam.\n"
          ]
        },
        {
          "output_type": "stream",
          "name": "stdout",
          "text": [
            "Epoch 1/100\n",
            "346/346 [==============================] - 17s 45ms/step - loss: 2.5680 - accuracy: 0.2521\n",
            "Epoch 2/100\n",
            "346/346 [==============================] - 17s 50ms/step - loss: 2.2255 - accuracy: 0.3350\n",
            "Epoch 3/100\n",
            "346/346 [==============================] - 18s 51ms/step - loss: 2.1208 - accuracy: 0.3580\n",
            "Epoch 4/100\n",
            "346/346 [==============================] - 15s 44ms/step - loss: 2.0630 - accuracy: 0.3726\n",
            "Epoch 5/100\n",
            "346/346 [==============================] - 15s 45ms/step - loss: 2.0221 - accuracy: 0.3804\n",
            "Epoch 6/100\n",
            "346/346 [==============================] - 15s 45ms/step - loss: 1.9826 - accuracy: 0.3868\n",
            "Epoch 7/100\n",
            "346/346 [==============================] - 16s 45ms/step - loss: 1.9408 - accuracy: 0.4033\n",
            "Epoch 8/100\n",
            "346/346 [==============================] - 17s 49ms/step - loss: 1.8969 - accuracy: 0.4184\n",
            "Epoch 9/100\n",
            "346/346 [==============================] - 15s 44ms/step - loss: 1.8554 - accuracy: 0.4295\n",
            "Epoch 10/100\n",
            "346/346 [==============================] - 15s 45ms/step - loss: 1.8120 - accuracy: 0.4457\n",
            "Epoch 11/100\n",
            "346/346 [==============================] - 16s 45ms/step - loss: 1.7679 - accuracy: 0.4574\n",
            "Epoch 12/100\n",
            "346/346 [==============================] - 16s 45ms/step - loss: 1.7226 - accuracy: 0.4685\n",
            "Epoch 13/100\n",
            "346/346 [==============================] - 15s 44ms/step - loss: 1.6712 - accuracy: 0.4884\n",
            "Epoch 14/100\n",
            "346/346 [==============================] - 16s 46ms/step - loss: 1.6249 - accuracy: 0.5038\n",
            "Epoch 15/100\n",
            "346/346 [==============================] - 17s 49ms/step - loss: 1.5801 - accuracy: 0.5184\n",
            "Epoch 16/100\n",
            "346/346 [==============================] - 15s 45ms/step - loss: 1.5346 - accuracy: 0.5267\n",
            "Epoch 17/100\n",
            "346/346 [==============================] - 15s 44ms/step - loss: 1.4824 - accuracy: 0.5440\n",
            "Epoch 18/100\n",
            "346/346 [==============================] - 17s 49ms/step - loss: 1.4418 - accuracy: 0.5557\n",
            "Epoch 19/100\n",
            "346/346 [==============================] - 16s 45ms/step - loss: 1.3976 - accuracy: 0.5716\n",
            "Epoch 20/100\n",
            "346/346 [==============================] - 16s 47ms/step - loss: 1.3554 - accuracy: 0.5824\n",
            "Epoch 21/100\n",
            "346/346 [==============================] - 16s 48ms/step - loss: 1.3170 - accuracy: 0.5915\n",
            "Epoch 22/100\n",
            "346/346 [==============================] - 16s 45ms/step - loss: 1.2679 - accuracy: 0.6108\n",
            "Epoch 23/100\n",
            "346/346 [==============================] - 16s 45ms/step - loss: 1.2264 - accuracy: 0.6185\n",
            "Epoch 24/100\n",
            "346/346 [==============================] - 16s 45ms/step - loss: 1.1968 - accuracy: 0.6293\n",
            "Epoch 25/100\n",
            "346/346 [==============================] - 15s 44ms/step - loss: 1.1640 - accuracy: 0.6380\n",
            "Epoch 26/100\n",
            "346/346 [==============================] - 16s 45ms/step - loss: 1.1261 - accuracy: 0.6537\n",
            "Epoch 27/100\n",
            "346/346 [==============================] - 16s 48ms/step - loss: 1.0961 - accuracy: 0.6555\n",
            "Epoch 28/100\n",
            "346/346 [==============================] - 16s 46ms/step - loss: 1.0608 - accuracy: 0.6667\n",
            "Epoch 29/100\n",
            "346/346 [==============================] - 16s 45ms/step - loss: 1.0376 - accuracy: 0.6752\n",
            "Epoch 30/100\n",
            "346/346 [==============================] - 15s 44ms/step - loss: 1.0108 - accuracy: 0.6824\n",
            "Epoch 31/100\n",
            "346/346 [==============================] - 16s 45ms/step - loss: 0.9893 - accuracy: 0.6898\n",
            "Epoch 32/100\n",
            "346/346 [==============================] - 15s 44ms/step - loss: 0.9802 - accuracy: 0.6924\n",
            "Epoch 33/100\n",
            "346/346 [==============================] - 19s 55ms/step - loss: 0.9490 - accuracy: 0.7015\n",
            "Epoch 34/100\n",
            "346/346 [==============================] - 16s 45ms/step - loss: 0.9210 - accuracy: 0.7084\n",
            "Epoch 35/100\n",
            "346/346 [==============================] - 16s 45ms/step - loss: 0.9056 - accuracy: 0.7174\n",
            "Epoch 36/100\n",
            "346/346 [==============================] - 16s 45ms/step - loss: 0.8903 - accuracy: 0.7174\n",
            "Epoch 37/100\n",
            "346/346 [==============================] - 15s 44ms/step - loss: 0.8782 - accuracy: 0.7214\n",
            "Epoch 38/100\n",
            "346/346 [==============================] - 15s 45ms/step - loss: 0.8439 - accuracy: 0.7314\n",
            "Epoch 39/100\n",
            "346/346 [==============================] - 17s 48ms/step - loss: 0.8412 - accuracy: 0.7340\n",
            "Epoch 40/100\n",
            "346/346 [==============================] - 16s 47ms/step - loss: 0.8268 - accuracy: 0.7356\n",
            "Epoch 41/100\n",
            "346/346 [==============================] - 15s 44ms/step - loss: 0.8026 - accuracy: 0.7430\n",
            "Epoch 42/100\n",
            "346/346 [==============================] - 15s 45ms/step - loss: 0.8051 - accuracy: 0.7401\n",
            "Epoch 43/100\n",
            "346/346 [==============================] - 15s 44ms/step - loss: 0.7805 - accuracy: 0.7498\n",
            "Epoch 44/100\n",
            "346/346 [==============================] - 15s 45ms/step - loss: 0.7710 - accuracy: 0.7533\n",
            "Epoch 45/100\n",
            "346/346 [==============================] - 16s 45ms/step - loss: 0.7538 - accuracy: 0.7595\n",
            "Epoch 46/100\n",
            "346/346 [==============================] - 17s 49ms/step - loss: 0.7626 - accuracy: 0.7537\n",
            "Epoch 47/100\n",
            "346/346 [==============================] - 15s 44ms/step - loss: 0.7368 - accuracy: 0.7624\n",
            "Epoch 48/100\n",
            "346/346 [==============================] - 18s 51ms/step - loss: 0.7229 - accuracy: 0.7672\n",
            "Epoch 49/100\n",
            "346/346 [==============================] - 16s 46ms/step - loss: 0.7286 - accuracy: 0.7632\n",
            "Epoch 50/100\n",
            "346/346 [==============================] - 16s 45ms/step - loss: 0.7007 - accuracy: 0.7728\n",
            "Epoch 51/100\n",
            "346/346 [==============================] - 17s 48ms/step - loss: 0.7144 - accuracy: 0.7704\n",
            "Epoch 52/100\n",
            "346/346 [==============================] - 16s 47ms/step - loss: 0.7086 - accuracy: 0.7705\n",
            "Epoch 53/100\n",
            "346/346 [==============================] - 16s 45ms/step - loss: 0.6789 - accuracy: 0.7786\n",
            "Epoch 54/100\n",
            "346/346 [==============================] - 16s 45ms/step - loss: 0.6871 - accuracy: 0.7778\n",
            "Epoch 55/100\n",
            "346/346 [==============================] - 16s 45ms/step - loss: 0.6653 - accuracy: 0.7864\n",
            "Epoch 56/100\n",
            "346/346 [==============================] - 16s 45ms/step - loss: 0.6505 - accuracy: 0.7880\n",
            "Epoch 57/100\n",
            "346/346 [==============================] - 16s 47ms/step - loss: 0.6478 - accuracy: 0.7883\n",
            "Epoch 58/100\n",
            "346/346 [==============================] - 16s 47ms/step - loss: 0.6327 - accuracy: 0.7957\n",
            "Epoch 59/100\n",
            "346/346 [==============================] - 15s 45ms/step - loss: 0.6378 - accuracy: 0.7900\n",
            "Epoch 60/100\n",
            "346/346 [==============================] - 16s 46ms/step - loss: 0.6346 - accuracy: 0.7919\n",
            "Epoch 61/100\n",
            "346/346 [==============================] - 16s 45ms/step - loss: 0.6527 - accuracy: 0.7846\n",
            "Epoch 62/100\n",
            "346/346 [==============================] - 16s 45ms/step - loss: 0.6309 - accuracy: 0.7925\n",
            "Epoch 63/100\n",
            "346/346 [==============================] - 16s 46ms/step - loss: 0.6510 - accuracy: 0.7836\n",
            "Epoch 64/100\n",
            "346/346 [==============================] - 19s 56ms/step - loss: 0.6242 - accuracy: 0.7973\n",
            "Epoch 65/100\n",
            "346/346 [==============================] - 15s 45ms/step - loss: 0.5979 - accuracy: 0.8028\n",
            "Epoch 66/100\n",
            "346/346 [==============================] - 15s 45ms/step - loss: 0.5947 - accuracy: 0.8041\n",
            "Epoch 67/100\n",
            "346/346 [==============================] - 15s 44ms/step - loss: 0.5990 - accuracy: 0.8007\n",
            "Epoch 68/100\n",
            "346/346 [==============================] - 16s 45ms/step - loss: 0.5883 - accuracy: 0.8078\n",
            "Epoch 69/100\n",
            "346/346 [==============================] - 17s 48ms/step - loss: 0.6043 - accuracy: 0.8022\n",
            "Epoch 70/100\n",
            "346/346 [==============================] - 16s 46ms/step - loss: 0.5924 - accuracy: 0.8015\n",
            "Epoch 71/100\n",
            "346/346 [==============================] - 15s 44ms/step - loss: 0.6095 - accuracy: 0.7962\n",
            "Epoch 72/100\n",
            "346/346 [==============================] - 16s 45ms/step - loss: 0.5889 - accuracy: 0.8076\n",
            "Epoch 73/100\n",
            "346/346 [==============================] - 15s 44ms/step - loss: 0.5724 - accuracy: 0.8087\n",
            "Epoch 74/100\n",
            "346/346 [==============================] - 16s 45ms/step - loss: 0.5687 - accuracy: 0.8120\n",
            "Epoch 75/100\n",
            "346/346 [==============================] - 15s 43ms/step - loss: 0.5659 - accuracy: 0.8117\n",
            "Epoch 76/100\n",
            "346/346 [==============================] - 17s 49ms/step - loss: 0.5959 - accuracy: 0.8039\n",
            "Epoch 77/100\n",
            "346/346 [==============================] - 16s 46ms/step - loss: 0.5849 - accuracy: 0.8047\n",
            "Epoch 78/100\n",
            "346/346 [==============================] - 15s 45ms/step - loss: 0.5597 - accuracy: 0.8154\n",
            "Epoch 79/100\n",
            "346/346 [==============================] - 15s 44ms/step - loss: 0.5851 - accuracy: 0.8065\n",
            "Epoch 80/100\n",
            "346/346 [==============================] - 18s 51ms/step - loss: 0.5705 - accuracy: 0.8114\n",
            "Epoch 81/100\n",
            "346/346 [==============================] - 16s 45ms/step - loss: 0.5822 - accuracy: 0.8033\n",
            "Epoch 82/100\n",
            "346/346 [==============================] - 17s 50ms/step - loss: 0.5559 - accuracy: 0.8150\n",
            "Epoch 83/100\n",
            "346/346 [==============================] - 16s 45ms/step - loss: 0.5674 - accuracy: 0.8130\n",
            "Epoch 84/100\n",
            "346/346 [==============================] - 15s 43ms/step - loss: 0.5904 - accuracy: 0.8042\n",
            "Epoch 85/100\n",
            "346/346 [==============================] - 15s 44ms/step - loss: 0.6019 - accuracy: 0.7976\n",
            "Epoch 86/100\n",
            "346/346 [==============================] - 16s 45ms/step - loss: 0.5550 - accuracy: 0.8137\n",
            "Epoch 87/100\n",
            "346/346 [==============================] - 15s 45ms/step - loss: 0.5620 - accuracy: 0.8147\n",
            "Epoch 88/100\n",
            "346/346 [==============================] - 21s 60ms/step - loss: 0.5698 - accuracy: 0.8094\n",
            "Epoch 89/100\n",
            "346/346 [==============================] - 19s 54ms/step - loss: 0.5399 - accuracy: 0.8212\n",
            "Epoch 90/100\n",
            "346/346 [==============================] - 22s 64ms/step - loss: 0.5410 - accuracy: 0.8176\n",
            "Epoch 91/100\n",
            "346/346 [==============================] - 20s 57ms/step - loss: 0.5255 - accuracy: 0.8246\n",
            "Epoch 92/100\n",
            "346/346 [==============================] - 24s 69ms/step - loss: 0.5293 - accuracy: 0.8209\n",
            "Epoch 93/100\n",
            "346/346 [==============================] - 19s 53ms/step - loss: 0.5830 - accuracy: 0.8042\n",
            "Epoch 94/100\n",
            "346/346 [==============================] - 25s 72ms/step - loss: 0.6137 - accuracy: 0.7917\n",
            "Epoch 95/100\n",
            "346/346 [==============================] - 23s 66ms/step - loss: 0.5737 - accuracy: 0.8062\n",
            "Epoch 96/100\n",
            "346/346 [==============================] - 16s 47ms/step - loss: 0.5431 - accuracy: 0.8203\n",
            "Epoch 97/100\n",
            "346/346 [==============================] - 17s 50ms/step - loss: 0.5375 - accuracy: 0.8197\n",
            "Epoch 98/100\n",
            "346/346 [==============================] - 17s 50ms/step - loss: 0.5395 - accuracy: 0.8204\n",
            "Epoch 99/100\n",
            "346/346 [==============================] - 16s 46ms/step - loss: 0.5291 - accuracy: 0.8240\n",
            "Epoch 100/100\n",
            "346/346 [==============================] - 16s 46ms/step - loss: 0.5560 - accuracy: 0.8126\n"
          ]
        },
        {
          "output_type": "execute_result",
          "data": {
            "text/plain": [
              "<keras.src.callbacks.History at 0x7af15af10850>"
            ]
          },
          "metadata": {},
          "execution_count": 28
        }
      ]
    },
    {
      "cell_type": "code",
      "source": [
        "# Generate text\n",
        "generated_text = generate_text(5,model_rnn, 0.5)  # Generate a longer text\n",
        "print('\\nGenerated Text:')\n",
        "print(generated_text)\n"
      ],
      "metadata": {
        "colab": {
          "base_uri": "https://localhost:8080/"
        },
        "id": "S3mM0JaZ7cbi",
        "outputId": "9bd76b09-c226-47c9-d9dc-58c751f191e3"
      },
      "execution_count": null,
      "outputs": [
        {
          "output_type": "stream",
          "name": "stdout",
          "text": [
            "\n",
            "Generated Text:\n",
            "ved critical decision direction game producti\n"
          ]
        }
      ]
    },
    {
      "cell_type": "code",
      "source": [
        "# Generate text\n",
        "generated_text2 = generate_text(5,model_rnn, 0.5)  # Generate a longer text\n",
        "print('\\nGenerated Text:')\n",
        "print(generated_text2)"
      ],
      "metadata": {
        "colab": {
          "base_uri": "https://localhost:8080/"
        },
        "id": "NdtSWM-X4Vz_",
        "outputId": "ed29b8be-3121-474c-cce4-a41c7a967091"
      },
      "execution_count": null,
      "outputs": [
        {
          "output_type": "stream",
          "name": "stdout",
          "text": [
            "\n",
            "Generated Text:\n",
            "und license dungeon dragon pathfinder market \n"
          ]
        }
      ]
    },
    {
      "cell_type": "code",
      "source": [
        "# Generate text\n",
        "generated_text3 = generate_text(5,model_rnn, 0.5)  # Generate a longer text\n",
        "print('\\nGenerated Text:')\n",
        "print(generated_text3)"
      ],
      "metadata": {
        "colab": {
          "base_uri": "https://localhost:8080/"
        },
        "id": "KlKN-FW05WfB",
        "outputId": "88346b97-ce41-484d-f019-7c70beec8510"
      },
      "execution_count": null,
      "outputs": [
        {
          "output_type": "stream",
          "name": "stdout",
          "text": [
            "\n",
            "Generated Text:\n",
            " strachey draught game nimrod computer freque\n"
          ]
        }
      ]
    },
    {
      "cell_type": "code",
      "source": [
        "heading1 = Paragraph(f\"Character generation : generate 5 char\", styles[\"Heading1\"])\n",
        "heading2 = Paragraph(f\"Model 1 : one RNN Layer\", styles[\"Heading2\"])\n",
        "text = f\"RNN + Dense\"\n",
        "para1 = Paragraph(text, styles[\"Normal\"])\n",
        "text = f\"Generated1: {generated_text}\"\n",
        "para2 = Paragraph(text, styles[\"Normal\"])\n",
        "text = f\"Generated2: {generated_text2}\"\n",
        "para3 = Paragraph(text, styles[\"Normal\"])\n",
        "text = f\"Generated3: {generated_text3}\"\n",
        "para4 = Paragraph(text, styles[\"Normal\"])\n",
        "pdf_components += [heading1, Spacer(1, 20),heading2, Spacer(1, 20), para1, Spacer(1, 20), para2, Spacer(1, 20),para3, Spacer(1, 20),para4, Spacer(1, 20)]"
      ],
      "metadata": {
        "id": "2xnHHyls6-TR"
      },
      "execution_count": null,
      "outputs": []
    },
    {
      "cell_type": "markdown",
      "source": [
        "# **3 RNN Layers**"
      ],
      "metadata": {
        "id": "KUeSeELYP7mm"
      }
    },
    {
      "cell_type": "code",
      "source": [
        "from keras.layers import SimpleRNN\n",
        "\n",
        "# Model building with SimpleRNN (RNN)\n",
        "model_rnn = Sequential()\n",
        "model_rnn.add(SimpleRNN(256, input_shape=(maxlen, len(chars)), return_sequences=True))\n",
        "model_rnn.add(SimpleRNN(128, return_sequences=True))\n",
        "model_rnn.add(SimpleRNN(64))\n",
        "model_rnn.add(Dense(len(chars), activation='softmax'))\n",
        "\n",
        "optimizer = Adam(lr=0.001)\n",
        "model_rnn.compile(optimizer=optimizer, loss='categorical_crossentropy', metrics=['accuracy'])\n",
        "\n",
        "# Train the model with SimpleRNN (RNN)\n",
        "model_rnn.fit(x, y, batch_size=64, epochs=100)\n"
      ],
      "metadata": {
        "colab": {
          "base_uri": "https://localhost:8080/"
        },
        "id": "jQqyqn5HrqKm",
        "outputId": "60365a86-9c97-4ac6-ee62-1c9d7dc44ed6"
      },
      "execution_count": null,
      "outputs": [
        {
          "output_type": "stream",
          "name": "stderr",
          "text": [
            "WARNING:absl:`lr` is deprecated in Keras optimizer, please use `learning_rate` or use the legacy optimizer, e.g.,tf.keras.optimizers.legacy.Adam.\n"
          ]
        },
        {
          "output_type": "stream",
          "name": "stdout",
          "text": [
            "Epoch 1/100\n",
            "346/346 [==============================] - 38s 100ms/step - loss: 2.7061 - accuracy: 0.2119\n",
            "Epoch 2/100\n",
            "346/346 [==============================] - 54s 156ms/step - loss: 2.2903 - accuracy: 0.3145\n",
            "Epoch 3/100\n",
            "346/346 [==============================] - 43s 123ms/step - loss: 2.0983 - accuracy: 0.3640\n",
            "Epoch 4/100\n",
            "346/346 [==============================] - 36s 103ms/step - loss: 1.9650 - accuracy: 0.4026\n",
            "Epoch 5/100\n",
            "346/346 [==============================] - 41s 120ms/step - loss: 1.8554 - accuracy: 0.4372\n",
            "Epoch 6/100\n",
            "346/346 [==============================] - 37s 108ms/step - loss: 1.7676 - accuracy: 0.4628\n",
            "Epoch 7/100\n",
            "346/346 [==============================] - 34s 97ms/step - loss: 1.6903 - accuracy: 0.4910\n",
            "Epoch 8/100\n",
            "346/346 [==============================] - 37s 106ms/step - loss: 1.6212 - accuracy: 0.5122\n",
            "Epoch 9/100\n",
            "346/346 [==============================] - 36s 105ms/step - loss: 1.5680 - accuracy: 0.5266\n",
            "Epoch 10/100\n",
            "346/346 [==============================] - 35s 100ms/step - loss: 1.5129 - accuracy: 0.5440\n",
            "Epoch 11/100\n",
            "346/346 [==============================] - 35s 102ms/step - loss: 1.4602 - accuracy: 0.5622\n",
            "Epoch 12/100\n",
            "346/346 [==============================] - 34s 97ms/step - loss: 1.4290 - accuracy: 0.5674\n",
            "Epoch 13/100\n",
            "346/346 [==============================] - 35s 102ms/step - loss: 1.3821 - accuracy: 0.5816\n",
            "Epoch 14/100\n",
            "346/346 [==============================] - 33s 97ms/step - loss: 1.3500 - accuracy: 0.5922\n",
            "Epoch 15/100\n",
            "346/346 [==============================] - 35s 101ms/step - loss: 1.3134 - accuracy: 0.6027\n",
            "Epoch 16/100\n",
            "346/346 [==============================] - 35s 101ms/step - loss: 1.2883 - accuracy: 0.6067\n",
            "Epoch 17/100\n",
            "346/346 [==============================] - 34s 100ms/step - loss: 1.2567 - accuracy: 0.6184\n",
            "Epoch 18/100\n",
            "346/346 [==============================] - 34s 98ms/step - loss: 1.2295 - accuracy: 0.6239\n",
            "Epoch 19/100\n",
            "346/346 [==============================] - 34s 98ms/step - loss: 1.2063 - accuracy: 0.6279\n",
            "Epoch 20/100\n",
            "346/346 [==============================] - 35s 100ms/step - loss: 1.1791 - accuracy: 0.6379\n",
            "Epoch 21/100\n",
            "346/346 [==============================] - 35s 102ms/step - loss: 1.1676 - accuracy: 0.6378\n",
            "Epoch 22/100\n",
            "346/346 [==============================] - 34s 99ms/step - loss: 1.1392 - accuracy: 0.6497\n",
            "Epoch 23/100\n",
            "346/346 [==============================] - 37s 107ms/step - loss: 1.1097 - accuracy: 0.6581\n",
            "Epoch 24/100\n",
            "346/346 [==============================] - 34s 97ms/step - loss: 1.0922 - accuracy: 0.6615\n",
            "Epoch 25/100\n",
            "346/346 [==============================] - 36s 103ms/step - loss: 1.0781 - accuracy: 0.6649\n",
            "Epoch 26/100\n",
            "346/346 [==============================] - 34s 97ms/step - loss: 1.0519 - accuracy: 0.6739\n",
            "Epoch 27/100\n",
            "346/346 [==============================] - 35s 102ms/step - loss: 1.0430 - accuracy: 0.6729\n",
            "Epoch 28/100\n",
            "346/346 [==============================] - 34s 98ms/step - loss: 1.0252 - accuracy: 0.6824\n",
            "Epoch 29/100\n",
            "346/346 [==============================] - 35s 102ms/step - loss: 1.0056 - accuracy: 0.6867\n",
            "Epoch 30/100\n",
            "346/346 [==============================] - 35s 102ms/step - loss: 0.9989 - accuracy: 0.6864\n",
            "Epoch 31/100\n",
            "346/346 [==============================] - 38s 110ms/step - loss: 0.9772 - accuracy: 0.6931\n",
            "Epoch 32/100\n",
            "346/346 [==============================] - 39s 113ms/step - loss: 0.9537 - accuracy: 0.7014\n",
            "Epoch 33/100\n",
            "346/346 [==============================] - 33s 97ms/step - loss: 0.9392 - accuracy: 0.7073\n",
            "Epoch 34/100\n",
            "346/346 [==============================] - 35s 101ms/step - loss: 0.9335 - accuracy: 0.7065\n",
            "Epoch 35/100\n",
            "346/346 [==============================] - 33s 96ms/step - loss: 0.9089 - accuracy: 0.7156\n",
            "Epoch 36/100\n",
            "346/346 [==============================] - 35s 101ms/step - loss: 0.9025 - accuracy: 0.7135\n",
            "Epoch 37/100\n",
            "346/346 [==============================] - 34s 97ms/step - loss: 0.8738 - accuracy: 0.7258\n",
            "Epoch 38/100\n",
            "346/346 [==============================] - 37s 107ms/step - loss: 0.8627 - accuracy: 0.7281\n",
            "Epoch 39/100\n",
            "346/346 [==============================] - 35s 101ms/step - loss: 0.8485 - accuracy: 0.7345\n",
            "Epoch 40/100\n",
            "346/346 [==============================] - 34s 99ms/step - loss: 0.8304 - accuracy: 0.7390\n",
            "Epoch 41/100\n",
            "346/346 [==============================] - 35s 100ms/step - loss: 0.8323 - accuracy: 0.7333\n",
            "Epoch 42/100\n",
            "346/346 [==============================] - 34s 98ms/step - loss: 0.8181 - accuracy: 0.7398\n",
            "Epoch 43/100\n",
            "346/346 [==============================] - 36s 103ms/step - loss: 0.8169 - accuracy: 0.7403\n",
            "Epoch 44/100\n",
            "346/346 [==============================] - 34s 98ms/step - loss: 0.8078 - accuracy: 0.7425\n",
            "Epoch 45/100\n",
            "346/346 [==============================] - 37s 107ms/step - loss: 0.7858 - accuracy: 0.7525\n",
            "Epoch 46/100\n",
            "346/346 [==============================] - 34s 97ms/step - loss: 0.7853 - accuracy: 0.7492\n",
            "Epoch 47/100\n",
            "346/346 [==============================] - 36s 103ms/step - loss: 0.7640 - accuracy: 0.7596\n",
            "Epoch 48/100\n",
            "346/346 [==============================] - 34s 97ms/step - loss: 0.7461 - accuracy: 0.7624\n",
            "Epoch 49/100\n",
            "346/346 [==============================] - 35s 102ms/step - loss: 0.7460 - accuracy: 0.7639\n",
            "Epoch 50/100\n",
            "346/346 [==============================] - 33s 97ms/step - loss: 0.7477 - accuracy: 0.7639\n",
            "Epoch 51/100\n",
            "346/346 [==============================] - 35s 102ms/step - loss: 0.7350 - accuracy: 0.7666\n",
            "Epoch 52/100\n",
            "346/346 [==============================] - 36s 103ms/step - loss: 0.7367 - accuracy: 0.7653\n",
            "Epoch 53/100\n",
            "346/346 [==============================] - 35s 100ms/step - loss: 0.7382 - accuracy: 0.7635\n",
            "Epoch 54/100\n",
            "346/346 [==============================] - 34s 98ms/step - loss: 0.7056 - accuracy: 0.7745\n",
            "Epoch 55/100\n",
            "346/346 [==============================] - 34s 99ms/step - loss: 0.6805 - accuracy: 0.7832\n",
            "Epoch 56/100\n",
            "346/346 [==============================] - 34s 100ms/step - loss: 0.6843 - accuracy: 0.7801\n",
            "Epoch 57/100\n",
            "346/346 [==============================] - 34s 99ms/step - loss: 0.6981 - accuracy: 0.7786\n",
            "Epoch 58/100\n",
            "346/346 [==============================] - 35s 100ms/step - loss: 0.7273 - accuracy: 0.7663\n",
            "Epoch 59/100\n",
            "346/346 [==============================] - 34s 99ms/step - loss: 0.7012 - accuracy: 0.7765\n",
            "Epoch 60/100\n",
            "346/346 [==============================] - 37s 106ms/step - loss: 0.6969 - accuracy: 0.7766\n",
            "Epoch 61/100\n",
            "346/346 [==============================] - 33s 97ms/step - loss: 0.6413 - accuracy: 0.7941\n",
            "Epoch 62/100\n",
            "346/346 [==============================] - 35s 101ms/step - loss: 0.6435 - accuracy: 0.7945\n",
            "Epoch 63/100\n",
            "346/346 [==============================] - 34s 99ms/step - loss: 0.6977 - accuracy: 0.7785\n",
            "Epoch 64/100\n",
            "346/346 [==============================] - 36s 105ms/step - loss: 0.6877 - accuracy: 0.7789\n",
            "Epoch 65/100\n",
            "346/346 [==============================] - 35s 102ms/step - loss: 0.6826 - accuracy: 0.7811\n",
            "Epoch 66/100\n",
            "346/346 [==============================] - 36s 105ms/step - loss: 0.6399 - accuracy: 0.7951\n",
            "Epoch 67/100\n",
            "346/346 [==============================] - 38s 109ms/step - loss: 0.6340 - accuracy: 0.7949\n",
            "Epoch 68/100\n",
            "346/346 [==============================] - 33s 97ms/step - loss: 0.6712 - accuracy: 0.7834\n",
            "Epoch 69/100\n",
            "346/346 [==============================] - 36s 103ms/step - loss: 0.6385 - accuracy: 0.7934\n",
            "Epoch 70/100\n",
            "346/346 [==============================] - 34s 97ms/step - loss: 0.6389 - accuracy: 0.7947\n",
            "Epoch 71/100\n",
            "346/346 [==============================] - 35s 102ms/step - loss: 0.6792 - accuracy: 0.7809\n",
            "Epoch 72/100\n",
            "346/346 [==============================] - 33s 97ms/step - loss: 0.6476 - accuracy: 0.7885\n",
            "Epoch 73/100\n",
            "346/346 [==============================] - 35s 101ms/step - loss: 0.6345 - accuracy: 0.7981\n",
            "Epoch 74/100\n",
            "346/346 [==============================] - 34s 98ms/step - loss: 0.6395 - accuracy: 0.7955\n",
            "Epoch 75/100\n",
            "346/346 [==============================] - 36s 105ms/step - loss: 0.6095 - accuracy: 0.8045\n",
            "Epoch 76/100\n",
            "346/346 [==============================] - 36s 104ms/step - loss: 0.6184 - accuracy: 0.8028\n",
            "Epoch 77/100\n",
            "346/346 [==============================] - 34s 97ms/step - loss: 0.6501 - accuracy: 0.7876\n",
            "Epoch 78/100\n",
            "346/346 [==============================] - 35s 102ms/step - loss: 0.6213 - accuracy: 0.7982\n",
            "Epoch 79/100\n",
            "346/346 [==============================] - 34s 98ms/step - loss: 0.6210 - accuracy: 0.7986\n",
            "Epoch 80/100\n",
            "346/346 [==============================] - 35s 101ms/step - loss: 0.6129 - accuracy: 0.8028\n",
            "Epoch 81/100\n",
            "346/346 [==============================] - 34s 97ms/step - loss: 0.6336 - accuracy: 0.7934\n",
            "Epoch 82/100\n",
            "346/346 [==============================] - 38s 108ms/step - loss: 0.6489 - accuracy: 0.7900\n",
            "Epoch 83/100\n",
            "346/346 [==============================] - 36s 104ms/step - loss: 0.6524 - accuracy: 0.7883\n",
            "Epoch 84/100\n",
            "346/346 [==============================] - 33s 97ms/step - loss: 0.6004 - accuracy: 0.8055\n",
            "Epoch 85/100\n",
            "346/346 [==============================] - 35s 101ms/step - loss: 0.5844 - accuracy: 0.8132\n",
            "Epoch 86/100\n",
            "346/346 [==============================] - 34s 97ms/step - loss: 0.6081 - accuracy: 0.8044\n",
            "Epoch 87/100\n",
            "346/346 [==============================] - 35s 103ms/step - loss: 0.6257 - accuracy: 0.7972\n",
            "Epoch 88/100\n",
            "346/346 [==============================] - 33s 95ms/step - loss: 0.6320 - accuracy: 0.7931\n",
            "Epoch 89/100\n",
            "346/346 [==============================] - 35s 102ms/step - loss: 0.6191 - accuracy: 0.8003\n",
            "Epoch 90/100\n",
            "346/346 [==============================] - 36s 104ms/step - loss: 0.5994 - accuracy: 0.8052\n",
            "Epoch 91/100\n",
            "346/346 [==============================] - 35s 102ms/step - loss: 0.5972 - accuracy: 0.8065\n",
            "Epoch 92/100\n",
            "346/346 [==============================] - 36s 103ms/step - loss: 0.6164 - accuracy: 0.7971\n",
            "Epoch 93/100\n",
            "346/346 [==============================] - 34s 99ms/step - loss: 0.6659 - accuracy: 0.7812\n",
            "Epoch 94/100\n",
            "346/346 [==============================] - 35s 102ms/step - loss: 0.6321 - accuracy: 0.7933\n",
            "Epoch 95/100\n",
            "346/346 [==============================] - 37s 106ms/step - loss: 0.5838 - accuracy: 0.8091\n",
            "Epoch 96/100\n",
            "346/346 [==============================] - 36s 103ms/step - loss: 0.6146 - accuracy: 0.7996\n",
            "Epoch 97/100\n",
            "346/346 [==============================] - 39s 113ms/step - loss: 0.6022 - accuracy: 0.8022\n",
            "Epoch 98/100\n",
            "346/346 [==============================] - 34s 99ms/step - loss: 0.5982 - accuracy: 0.8062\n",
            "Epoch 99/100\n",
            "346/346 [==============================] - 35s 101ms/step - loss: 0.5963 - accuracy: 0.8054\n",
            "Epoch 100/100\n",
            "346/346 [==============================] - 34s 97ms/step - loss: 0.6060 - accuracy: 0.7994\n"
          ]
        },
        {
          "output_type": "execute_result",
          "data": {
            "text/plain": [
              "<keras.src.callbacks.History at 0x7af16cfdc310>"
            ]
          },
          "metadata": {},
          "execution_count": 70
        }
      ]
    },
    {
      "cell_type": "code",
      "source": [
        "# Generate text\n",
        "generated_text = generate_text(5,model_rnn, 0.5)  # Generate a longer text\n",
        "print('\\nGenerated Text:')\n",
        "print(generated_text)"
      ],
      "metadata": {
        "colab": {
          "base_uri": "https://localhost:8080/"
        },
        "id": "lzlRhbcXq8nF",
        "outputId": "0084fccb-1647-47ea-84a2-cd69840ec414"
      },
      "execution_count": null,
      "outputs": [
        {
          "output_type": "stream",
          "name": "stdout",
          "text": [
            "\n",
            "Generated Text:\n",
            "troller like gamepads joystick console action\n"
          ]
        }
      ]
    },
    {
      "cell_type": "code",
      "source": [
        "# Generate text\n",
        "generated_text2 = generate_text(5,model_rnn, 0.5)  # Generate a longer text\n",
        "print('\\nGenerated Text:')\n",
        "print(generated_text2)"
      ],
      "metadata": {
        "id": "jh8HyH4m6tD6",
        "colab": {
          "base_uri": "https://localhost:8080/"
        },
        "outputId": "f3ade367-046b-49e6-a3b7-9c27bb8d0996"
      },
      "execution_count": null,
      "outputs": [
        {
          "output_type": "stream",
          "name": "stdout",
          "text": [
            "\n",
            "Generated Text:\n",
            "t industry grown building idea others exists \n"
          ]
        }
      ]
    },
    {
      "cell_type": "code",
      "source": [
        "# Generate text\n",
        "generated_text3 = generate_text(5,model_rnn, 0.5)  # Generate a longer text\n",
        "print('\\nGenerated Text:')\n",
        "print(generated_text3)"
      ],
      "metadata": {
        "id": "miXx91QF6twz",
        "colab": {
          "base_uri": "https://localhost:8080/"
        },
        "outputId": "f18ebf14-3e1e-40b1-ea05-e04a2c795720"
      },
      "execution_count": null,
      "outputs": [
        {
          "output_type": "stream",
          "name": "stdout",
          "text": [
            "\n",
            "Generated Text:\n",
            " name draught player capturing opposing parti\n"
          ]
        }
      ]
    },
    {
      "cell_type": "code",
      "source": [
        "heading = Paragraph(f\"Model 2 : 3 RNN Layers with filters size ( 256 , 128 , 64 )\", styles[\"Heading2\"])\n",
        "text = f\"RNN + RNN + Dense\"\n",
        "para1 = Paragraph(text, styles[\"Normal\"])\n",
        "text = f\"Generated1: {generated_text}\"\n",
        "para2 = Paragraph(text, styles[\"Normal\"])\n",
        "text = f\"Generated2: {generated_text2}\"\n",
        "para3 = Paragraph(text, styles[\"Normal\"])\n",
        "text = f\"Generated3: {generated_text3}\"\n",
        "para4 = Paragraph(text, styles[\"Normal\"])\n",
        "pdf_components += [heading, Spacer(1, 20), para1, Spacer(1, 20), para2, Spacer(1, 20), para3, Spacer(1, 20), para4, Spacer(1, 20)]"
      ],
      "metadata": {
        "id": "EsLp51NlO5m2"
      },
      "execution_count": null,
      "outputs": []
    },
    {
      "cell_type": "markdown",
      "source": [
        "# GRU"
      ],
      "metadata": {
        "id": "rRDXCfPr6_2t"
      }
    },
    {
      "cell_type": "code",
      "source": [
        "# Model building with GRU\n",
        "model_gru = Sequential()\n",
        "model_gru.add(GRU(256, input_shape=(maxlen, len(chars))))\n",
        "model_gru.add(Dense(len(chars), activation='softmax'))\n",
        "\n",
        "optimizer = Adam(lr=0.001)\n",
        "model_gru.compile(optimizer=optimizer, loss='categorical_crossentropy', metrics=['accuracy'])\n",
        "\n",
        "# Train the model with GRU\n",
        "model_gru.fit(x, y, batch_size=64, epochs=40)"
      ],
      "metadata": {
        "colab": {
          "base_uri": "https://localhost:8080/"
        },
        "id": "kxpxyOf88sDK",
        "outputId": "4c0ea36a-d014-4fe0-a48f-db9dcfd1afaf"
      },
      "execution_count": null,
      "outputs": [
        {
          "metadata": {
            "tags": null
          },
          "name": "stderr",
          "output_type": "stream",
          "text": [
            "WARNING:absl:`lr` is deprecated in Keras optimizer, please use `learning_rate` or use the legacy optimizer, e.g.,tf.keras.optimizers.legacy.Adam.\n"
          ]
        },
        {
          "output_type": "stream",
          "name": "stdout",
          "text": [
            "Epoch 1/40\n",
            "346/346 [==============================] - 64s 176ms/step - loss: 2.5195 - accuracy: 0.2592\n",
            "Epoch 2/40\n",
            "346/346 [==============================] - 57s 164ms/step - loss: 2.1140 - accuracy: 0.3540\n",
            "Epoch 3/40\n",
            "346/346 [==============================] - 49s 142ms/step - loss: 1.9630 - accuracy: 0.3963\n",
            "Epoch 4/40\n",
            "346/346 [==============================] - 52s 150ms/step - loss: 1.8342 - accuracy: 0.4385\n",
            "Epoch 5/40\n",
            "346/346 [==============================] - 40s 117ms/step - loss: 1.7107 - accuracy: 0.4823\n",
            "Epoch 6/40\n",
            "346/346 [==============================] - 46s 134ms/step - loss: 1.5978 - accuracy: 0.5156\n",
            "Epoch 7/40\n",
            "346/346 [==============================] - 48s 137ms/step - loss: 1.4919 - accuracy: 0.5476\n",
            "Epoch 8/40\n",
            "346/346 [==============================] - 55s 158ms/step - loss: 1.3895 - accuracy: 0.5786\n",
            "Epoch 9/40\n",
            "346/346 [==============================] - 49s 143ms/step - loss: 1.2886 - accuracy: 0.6055\n",
            "Epoch 10/40\n",
            "346/346 [==============================] - 44s 127ms/step - loss: 1.1913 - accuracy: 0.6383\n",
            "Epoch 11/40\n",
            "346/346 [==============================] - 47s 136ms/step - loss: 1.0892 - accuracy: 0.6657\n",
            "Epoch 12/40\n",
            "346/346 [==============================] - 40s 115ms/step - loss: 0.9819 - accuracy: 0.7001\n",
            "Epoch 13/40\n",
            "346/346 [==============================] - 41s 118ms/step - loss: 0.8712 - accuracy: 0.7346\n",
            "Epoch 14/40\n",
            "346/346 [==============================] - 42s 121ms/step - loss: 0.7670 - accuracy: 0.7668\n",
            "Epoch 15/40\n",
            "346/346 [==============================] - 42s 122ms/step - loss: 0.6631 - accuracy: 0.8063\n",
            "Epoch 16/40\n",
            "346/346 [==============================] - 39s 114ms/step - loss: 0.5686 - accuracy: 0.8388\n",
            "Epoch 17/40\n",
            "346/346 [==============================] - 39s 113ms/step - loss: 0.4793 - accuracy: 0.8710\n",
            "Epoch 18/40\n",
            "346/346 [==============================] - 41s 118ms/step - loss: 0.4051 - accuracy: 0.8950\n",
            "Epoch 19/40\n",
            "346/346 [==============================] - 39s 113ms/step - loss: 0.3402 - accuracy: 0.9158\n",
            "Epoch 20/40\n",
            "346/346 [==============================] - 42s 122ms/step - loss: 0.2954 - accuracy: 0.9303\n",
            "Epoch 21/40\n",
            "346/346 [==============================] - 39s 113ms/step - loss: 0.2506 - accuracy: 0.9443\n",
            "Epoch 22/40\n",
            "346/346 [==============================] - 38s 111ms/step - loss: 0.2106 - accuracy: 0.9552\n",
            "Epoch 23/40\n",
            "346/346 [==============================] - 39s 113ms/step - loss: 0.1832 - accuracy: 0.9632\n",
            "Epoch 24/40\n",
            "346/346 [==============================] - 45s 130ms/step - loss: 0.1645 - accuracy: 0.9655\n",
            "Epoch 25/40\n",
            "346/346 [==============================] - 41s 119ms/step - loss: 0.1540 - accuracy: 0.9682\n",
            "Epoch 26/40\n",
            "346/346 [==============================] - 49s 141ms/step - loss: 0.1420 - accuracy: 0.9705\n",
            "Epoch 27/40\n",
            "346/346 [==============================] - 39s 113ms/step - loss: 0.1283 - accuracy: 0.9749\n",
            "Epoch 28/40\n",
            "346/346 [==============================] - 39s 113ms/step - loss: 0.1216 - accuracy: 0.9751\n",
            "Epoch 29/40\n",
            "346/346 [==============================] - 38s 110ms/step - loss: 0.1189 - accuracy: 0.9741\n",
            "Epoch 30/40\n",
            "346/346 [==============================] - 39s 114ms/step - loss: 0.1345 - accuracy: 0.9678\n",
            "Epoch 31/40\n",
            "346/346 [==============================] - 41s 119ms/step - loss: 0.1260 - accuracy: 0.9699\n",
            "Epoch 32/40\n",
            "346/346 [==============================] - 40s 115ms/step - loss: 0.1021 - accuracy: 0.9787\n",
            "Epoch 33/40\n",
            "346/346 [==============================] - 39s 114ms/step - loss: 0.0798 - accuracy: 0.9856\n",
            "Epoch 34/40\n",
            "346/346 [==============================] - 39s 113ms/step - loss: 0.0740 - accuracy: 0.9855\n",
            "Epoch 35/40\n",
            "346/346 [==============================] - 39s 112ms/step - loss: 0.0651 - accuracy: 0.9884\n",
            "Epoch 36/40\n",
            "346/346 [==============================] - 38s 108ms/step - loss: 0.0961 - accuracy: 0.9763\n",
            "Epoch 37/40\n",
            "346/346 [==============================] - 40s 117ms/step - loss: 0.1575 - accuracy: 0.9539\n",
            "Epoch 38/40\n",
            "346/346 [==============================] - 39s 113ms/step - loss: 0.1179 - accuracy: 0.9677\n",
            "Epoch 39/40\n",
            "346/346 [==============================] - 39s 113ms/step - loss: 0.0790 - accuracy: 0.9822\n",
            "Epoch 40/40\n",
            "346/346 [==============================] - 40s 114ms/step - loss: 0.0486 - accuracy: 0.9923\n"
          ]
        },
        {
          "output_type": "execute_result",
          "data": {
            "text/plain": [
              "<keras.src.callbacks.History at 0x7af16cf77370>"
            ]
          },
          "metadata": {},
          "execution_count": 103
        }
      ]
    },
    {
      "cell_type": "code",
      "source": [
        "# Generate text\n",
        "generated_text = generate_text(5, model_gru,0.5)  # Generate a longer text\n",
        "print('\\nGenerated Text:')\n",
        "print(generated_text)"
      ],
      "metadata": {
        "colab": {
          "base_uri": "https://localhost:8080/"
        },
        "id": "eWVPM_z57alv",
        "outputId": "4100ea75-1282-4ea9-9767-c74647b6f9f0"
      },
      "execution_count": null,
      "outputs": [
        {
          "output_type": "stream",
          "name": "stdout",
          "text": [
            "\n",
            "Generated Text:\n",
            "e dungeon dragon unlicensed version developme\n"
          ]
        }
      ]
    },
    {
      "cell_type": "code",
      "source": [
        "# Generate text\n",
        "generated_text2 = generate_text(5, model_gru,0.5)  # Generate a longer text\n",
        "print('\\nGenerated Text:')\n",
        "print(generated_text2)"
      ],
      "metadata": {
        "colab": {
          "base_uri": "https://localhost:8080/"
        },
        "id": "EgL2dmpCrU7z",
        "outputId": "e8100e2a-e633-465a-cc1d-553a587046a7"
      },
      "execution_count": null,
      "outputs": [
        {
          "output_type": "stream",
          "name": "stdout",
          "text": [
            "\n",
            "Generated Text:\n",
            "ement computer gaming inperson tabletop porti\n"
          ]
        }
      ]
    },
    {
      "cell_type": "code",
      "source": [
        "# Generate text\n",
        "generated_text3 = generate_text(5, model_gru,0.5)  # Generate a longer text\n",
        "print('\\nGenerated Text:')\n",
        "print(generated_text3)"
      ],
      "metadata": {
        "colab": {
          "base_uri": "https://localhost:8080/"
        },
        "id": "iOaVfAYOrX5z",
        "outputId": "8ea55845-9e71-41c5-b3f6-ebd8e06be700"
      },
      "execution_count": null,
      "outputs": [
        {
          "output_type": "stream",
          "name": "stdout",
          "text": [
            "\n",
            "Generated Text:\n",
            "ucation would enjoy significant benefit term \n"
          ]
        }
      ]
    },
    {
      "cell_type": "code",
      "source": [
        "heading = Paragraph(f\"Model 3\", styles[\"Heading2\"])\n",
        "text = f\"GRU + Dense\"\n",
        "para1 = Paragraph(text, styles[\"Normal\"])\n",
        "text = f\"Generated1: {generated_text}\"\n",
        "para2 = Paragraph(text, styles[\"Normal\"])\n",
        "text = f\"Generated2: {generated_text2}\"\n",
        "para3 = Paragraph(text, styles[\"Normal\"])\n",
        "text = f\"Generated3: {generated_text3}\"\n",
        "para4 = Paragraph(text, styles[\"Normal\"])\n",
        "pdf_components += [heading, Spacer(1, 20), para1, Spacer(1, 20), para2, Spacer(1, 20), para3, Spacer(1, 20), para4, Spacer(1, 20)]"
      ],
      "metadata": {
        "id": "9d8FiYW_73RK"
      },
      "execution_count": null,
      "outputs": []
    },
    {
      "cell_type": "markdown",
      "source": [
        "# RNN + GRU"
      ],
      "metadata": {
        "id": "THSNV-Iz7MyZ"
      }
    },
    {
      "cell_type": "code",
      "source": [
        "from keras.models import Model\n",
        "from keras.layers import Input, Dense, Concatenate, SimpleRNN, GRU\n",
        "from keras.optimizers import Adam\n",
        "\n",
        "# Model building with SimpleRNN and GRU with concatenation\n",
        "input_layer = Input(shape=(maxlen, len(chars)))\n",
        "rnn_output = SimpleRNN(256)(input_layer)\n",
        "gru_output = GRU(256)(input_layer)\n",
        "concatenated = Concatenate()([rnn_output, gru_output])\n",
        "output_layer = Dense(len(chars), activation='softmax')(concatenated)\n",
        "\n",
        "model_rnn_gru_concat = Model(inputs=input_layer, outputs=output_layer)\n",
        "\n",
        "optimizer = Adam(lr=0.001)\n",
        "model_rnn_gru_concat.compile(optimizer=optimizer, loss='categorical_crossentropy', metrics=['accuracy'])\n",
        "\n",
        "# Train the model with SimpleRNN and GRU with concatenation\n",
        "model_rnn_gru_concat.fit(x, y, batch_size=64, epochs=40)\n"
      ],
      "metadata": {
        "colab": {
          "base_uri": "https://localhost:8080/"
        },
        "id": "3wIb_VEd_Tj8",
        "outputId": "2e67dd73-c343-4025-9337-5d6f2f6e0f34"
      },
      "execution_count": null,
      "outputs": [
        {
          "metadata": {
            "tags": null
          },
          "name": "stderr",
          "output_type": "stream",
          "text": [
            "WARNING:absl:`lr` is deprecated in Keras optimizer, please use `learning_rate` or use the legacy optimizer, e.g.,tf.keras.optimizers.legacy.Adam.\n"
          ]
        },
        {
          "output_type": "stream",
          "name": "stdout",
          "text": [
            "Epoch 1/40\n",
            "346/346 [==============================] - 78s 215ms/step - loss: 2.4232 - accuracy: 0.2815\n",
            "Epoch 2/40\n",
            "346/346 [==============================] - 64s 186ms/step - loss: 2.0730 - accuracy: 0.3659\n",
            "Epoch 3/40\n",
            "346/346 [==============================] - 60s 173ms/step - loss: 1.9408 - accuracy: 0.4023\n",
            "Epoch 4/40\n",
            "346/346 [==============================] - 58s 167ms/step - loss: 1.8297 - accuracy: 0.4415\n",
            "Epoch 5/40\n",
            "346/346 [==============================] - 59s 169ms/step - loss: 1.7303 - accuracy: 0.4700\n",
            "Epoch 6/40\n",
            "346/346 [==============================] - 57s 164ms/step - loss: 1.6191 - accuracy: 0.5066\n",
            "Epoch 7/40\n",
            "346/346 [==============================] - 56s 163ms/step - loss: 1.5215 - accuracy: 0.5351\n",
            "Epoch 8/40\n",
            "346/346 [==============================] - 57s 164ms/step - loss: 1.4207 - accuracy: 0.5653\n",
            "Epoch 9/40\n",
            "346/346 [==============================] - 59s 170ms/step - loss: 1.3255 - accuracy: 0.5969\n",
            "Epoch 10/40\n",
            "346/346 [==============================] - 56s 162ms/step - loss: 1.2272 - accuracy: 0.6217\n",
            "Epoch 11/40\n",
            "346/346 [==============================] - 56s 162ms/step - loss: 1.1241 - accuracy: 0.6544\n",
            "Epoch 12/40\n",
            "346/346 [==============================] - 56s 162ms/step - loss: 1.0189 - accuracy: 0.6860\n",
            "Epoch 13/40\n",
            "346/346 [==============================] - 56s 163ms/step - loss: 0.9110 - accuracy: 0.7191\n",
            "Epoch 14/40\n",
            "346/346 [==============================] - 58s 168ms/step - loss: 0.8066 - accuracy: 0.7548\n",
            "Epoch 15/40\n",
            "346/346 [==============================] - 59s 171ms/step - loss: 0.7050 - accuracy: 0.7899\n",
            "Epoch 16/40\n",
            "346/346 [==============================] - 57s 165ms/step - loss: 0.6145 - accuracy: 0.8213\n",
            "Epoch 17/40\n",
            "346/346 [==============================] - 57s 166ms/step - loss: 0.5295 - accuracy: 0.8509\n",
            "Epoch 18/40\n",
            "346/346 [==============================] - 58s 169ms/step - loss: 0.4531 - accuracy: 0.8739\n",
            "Epoch 19/40\n",
            "346/346 [==============================] - 57s 164ms/step - loss: 0.3867 - accuracy: 0.8973\n",
            "Epoch 20/40\n",
            "346/346 [==============================] - 56s 161ms/step - loss: 0.3384 - accuracy: 0.9134\n",
            "Epoch 21/40\n",
            "346/346 [==============================] - 57s 165ms/step - loss: 0.2810 - accuracy: 0.9318\n",
            "Epoch 22/40\n",
            "346/346 [==============================] - 57s 166ms/step - loss: 0.2470 - accuracy: 0.9420\n",
            "Epoch 23/40\n",
            "346/346 [==============================] - 58s 168ms/step - loss: 0.2170 - accuracy: 0.9492\n",
            "Epoch 24/40\n",
            "346/346 [==============================] - 57s 164ms/step - loss: 0.2046 - accuracy: 0.9531\n",
            "Epoch 25/40\n",
            "346/346 [==============================] - 56s 163ms/step - loss: 0.1750 - accuracy: 0.9612\n",
            "Epoch 26/40\n",
            "346/346 [==============================] - 56s 161ms/step - loss: 0.1612 - accuracy: 0.9635\n",
            "Epoch 27/40\n",
            "346/346 [==============================] - 56s 161ms/step - loss: 0.1629 - accuracy: 0.9631\n",
            "Epoch 28/40\n",
            "346/346 [==============================] - 57s 164ms/step - loss: 0.1415 - accuracy: 0.9686\n",
            "Epoch 29/40\n",
            "346/346 [==============================] - 56s 163ms/step - loss: 0.1320 - accuracy: 0.9707\n",
            "Epoch 30/40\n",
            "346/346 [==============================] - 57s 163ms/step - loss: 0.1329 - accuracy: 0.9682\n",
            "Epoch 31/40\n",
            "346/346 [==============================] - 55s 160ms/step - loss: 0.1374 - accuracy: 0.9670\n",
            "Epoch 32/40\n",
            "346/346 [==============================] - 56s 162ms/step - loss: 0.1129 - accuracy: 0.9745\n",
            "Epoch 33/40\n",
            "346/346 [==============================] - 56s 163ms/step - loss: 0.1038 - accuracy: 0.9771\n",
            "Epoch 34/40\n",
            "346/346 [==============================] - 57s 165ms/step - loss: 0.1048 - accuracy: 0.9746\n",
            "Epoch 35/40\n",
            "346/346 [==============================] - 57s 165ms/step - loss: 0.1312 - accuracy: 0.9659\n",
            "Epoch 36/40\n",
            "346/346 [==============================] - 56s 162ms/step - loss: 0.1247 - accuracy: 0.9677\n",
            "Epoch 37/40\n",
            "346/346 [==============================] - 58s 166ms/step - loss: 0.1261 - accuracy: 0.9676\n",
            "Epoch 38/40\n",
            "346/346 [==============================] - 60s 174ms/step - loss: 0.1021 - accuracy: 0.9747\n",
            "Epoch 39/40\n",
            "346/346 [==============================] - 56s 163ms/step - loss: 0.0756 - accuracy: 0.9832\n",
            "Epoch 40/40\n",
            "346/346 [==============================] - 57s 165ms/step - loss: 0.0648 - accuracy: 0.9861\n"
          ]
        },
        {
          "output_type": "execute_result",
          "data": {
            "text/plain": [
              "<keras.src.callbacks.History at 0x7af16bb86e30>"
            ]
          },
          "metadata": {},
          "execution_count": 119
        }
      ]
    },
    {
      "cell_type": "code",
      "source": [
        "# Generate text\n",
        "generated_text = generate_text(5,model_rnn_gru_concat, 0.5)  # Generate a longer text\n",
        "print('\\nGenerated Text:')\n",
        "print(generated_text)"
      ],
      "metadata": {
        "colab": {
          "base_uri": "https://localhost:8080/"
        },
        "id": "NNrEvXF07dwv",
        "outputId": "8cafc7ab-409e-45c8-f994-62240e9a9a66"
      },
      "execution_count": null,
      "outputs": [
        {
          "output_type": "stream",
          "name": "stdout",
          "text": [
            "\n",
            "Generated Text:\n",
            "endo switch online offering backward computer\n"
          ]
        }
      ]
    },
    {
      "cell_type": "code",
      "source": [
        "# Generate text\n",
        "generated_text2 = generate_text(5,model_rnn_gru_concat, 0.5)  # Generate a longer text\n",
        "print('\\nGenerated Text:')\n",
        "print(generated_text2)"
      ],
      "metadata": {
        "colab": {
          "base_uri": "https://localhost:8080/"
        },
        "id": "Qkx5IdgBr6Oe",
        "outputId": "95a109c4-c734-4ce1-a761-35a8888deed3"
      },
      "execution_count": null,
      "outputs": [
        {
          "output_type": "stream",
          "name": "stdout",
          "text": [
            "\n",
            "Generated Text:\n",
            "vide value education across several component\n"
          ]
        }
      ]
    },
    {
      "cell_type": "code",
      "source": [
        "# Generate text\n",
        "generated_text3 = generate_text(5,model_rnn_gru_concat, 0.5)  # Generate a longer text\n",
        "print('\\nGenerated Text:')\n",
        "print(generated_text3)"
      ],
      "metadata": {
        "colab": {
          "base_uri": "https://localhost:8080/"
        },
        "id": "wrH__d6Br63_",
        "outputId": "5d1f681c-f2d8-4aab-a273-b276f7103aae"
      },
      "execution_count": null,
      "outputs": [
        {
          "output_type": "stream",
          "name": "stdout",
          "text": [
            "\n",
            "Generated Text:\n",
            "sed sale performance smaller boutique publish\n"
          ]
        }
      ]
    },
    {
      "cell_type": "code",
      "source": [
        "heading = Paragraph(f\"Model 4\", styles[\"Heading2\"])\n",
        "text = f\"RNN + GRU + Dense\"\n",
        "para1 = Paragraph(text, styles[\"Normal\"])\n",
        "text = f\"Generated1: {generated_text}\"\n",
        "para2 = Paragraph(text, styles[\"Normal\"])\n",
        "text = f\"Generated2: {generated_text2}\"\n",
        "para3 = Paragraph(text, styles[\"Normal\"])\n",
        "text = f\"Generated3: {generated_text3}\"\n",
        "para4 = Paragraph(text, styles[\"Normal\"])\n",
        "pdf_components += [heading, Spacer(1, 20), para1, Spacer(1, 20), para2, Spacer(1, 20), para3, Spacer(1, 20), para4, Spacer(1, 20)]"
      ],
      "metadata": {
        "id": "-Pf_r8w176dB"
      },
      "execution_count": null,
      "outputs": []
    },
    {
      "cell_type": "markdown",
      "source": [
        "# lstm"
      ],
      "metadata": {
        "id": "pLd_KW-p7QUd"
      }
    },
    {
      "cell_type": "code",
      "execution_count": null,
      "metadata": {
        "id": "DmHYLzPmtRRR",
        "colab": {
          "base_uri": "https://localhost:8080/"
        },
        "outputId": "353b53dc-7f63-41e4-887a-19ea109e9bd1"
      },
      "outputs": [
        {
          "output_type": "stream",
          "name": "stderr",
          "text": [
            "WARNING:absl:`lr` is deprecated in Keras optimizer, please use `learning_rate` or use the legacy optimizer, e.g.,tf.keras.optimizers.legacy.Adam.\n"
          ]
        },
        {
          "output_type": "stream",
          "name": "stdout",
          "text": [
            "Epoch 1/30\n",
            "346/346 [==============================] - 66s 182ms/step - loss: 2.7179 - accuracy: 0.1992\n",
            "Epoch 2/30\n",
            "346/346 [==============================] - 68s 198ms/step - loss: 2.2524 - accuracy: 0.3239\n",
            "Epoch 3/30\n",
            "346/346 [==============================] - 54s 155ms/step - loss: 2.0915 - accuracy: 0.3625\n",
            "Epoch 4/30\n",
            "346/346 [==============================] - 54s 155ms/step - loss: 1.9735 - accuracy: 0.3938\n",
            "Epoch 5/30\n",
            "346/346 [==============================] - 54s 155ms/step - loss: 1.8705 - accuracy: 0.4267\n",
            "Epoch 6/30\n",
            "346/346 [==============================] - 53s 153ms/step - loss: 1.7629 - accuracy: 0.4622\n",
            "Epoch 7/30\n",
            "346/346 [==============================] - 54s 157ms/step - loss: 1.6614 - accuracy: 0.4960\n",
            "Epoch 8/30\n",
            "346/346 [==============================] - 52s 151ms/step - loss: 1.5593 - accuracy: 0.5274\n",
            "Epoch 9/30\n",
            "346/346 [==============================] - 54s 156ms/step - loss: 1.4604 - accuracy: 0.5565\n",
            "Epoch 10/30\n",
            "346/346 [==============================] - 53s 154ms/step - loss: 1.3549 - accuracy: 0.5874\n",
            "Epoch 11/30\n",
            "346/346 [==============================] - 53s 153ms/step - loss: 1.2507 - accuracy: 0.6186\n",
            "Epoch 12/30\n",
            "346/346 [==============================] - 55s 159ms/step - loss: 1.1474 - accuracy: 0.6540\n",
            "Epoch 13/30\n",
            "346/346 [==============================] - 53s 154ms/step - loss: 1.0330 - accuracy: 0.6874\n",
            "Epoch 14/30\n",
            "346/346 [==============================] - 52s 149ms/step - loss: 0.9208 - accuracy: 0.7283\n",
            "Epoch 15/30\n",
            "346/346 [==============================] - 54s 155ms/step - loss: 0.8096 - accuracy: 0.7621\n",
            "Epoch 16/30\n",
            "346/346 [==============================] - 58s 169ms/step - loss: 0.7005 - accuracy: 0.8010\n",
            "Epoch 17/30\n",
            "346/346 [==============================] - 53s 152ms/step - loss: 0.6007 - accuracy: 0.8371\n",
            "Epoch 18/30\n",
            "346/346 [==============================] - 56s 161ms/step - loss: 0.5124 - accuracy: 0.8632\n",
            "Epoch 19/30\n",
            "346/346 [==============================] - 54s 155ms/step - loss: 0.4326 - accuracy: 0.8913\n",
            "Epoch 20/30\n",
            "346/346 [==============================] - 53s 154ms/step - loss: 0.3607 - accuracy: 0.9144\n",
            "Epoch 21/30\n",
            "346/346 [==============================] - 55s 159ms/step - loss: 0.3038 - accuracy: 0.9332\n",
            "Epoch 22/30\n",
            "346/346 [==============================] - 54s 156ms/step - loss: 0.2539 - accuracy: 0.9457\n",
            "Epoch 23/30\n",
            "346/346 [==============================] - 54s 156ms/step - loss: 0.2178 - accuracy: 0.9580\n",
            "Epoch 24/30\n",
            "346/346 [==============================] - 53s 153ms/step - loss: 0.1809 - accuracy: 0.9677\n",
            "Epoch 25/30\n",
            "346/346 [==============================] - 54s 155ms/step - loss: 0.1539 - accuracy: 0.9735\n",
            "Epoch 26/30\n",
            "346/346 [==============================] - 55s 159ms/step - loss: 0.1345 - accuracy: 0.9774\n",
            "Epoch 27/30\n",
            "346/346 [==============================] - 55s 158ms/step - loss: 0.1409 - accuracy: 0.9733\n",
            "Epoch 28/30\n",
            "346/346 [==============================] - 53s 153ms/step - loss: 0.1469 - accuracy: 0.9702\n",
            "Epoch 29/30\n",
            "346/346 [==============================] - 53s 153ms/step - loss: 0.1105 - accuracy: 0.9819\n",
            "Epoch 30/30\n",
            "346/346 [==============================] - 56s 161ms/step - loss: 0.0811 - accuracy: 0.9891\n"
          ]
        },
        {
          "output_type": "execute_result",
          "data": {
            "text/plain": [
              "<keras.src.callbacks.History at 0x7af16a5fc8b0>"
            ]
          },
          "metadata": {},
          "execution_count": 149
        }
      ],
      "source": [
        "# Model building\n",
        "model = Sequential()\n",
        "model.add(LSTM(256, input_shape=(maxlen, len(chars))))\n",
        "model.add(Dense(len(chars), activation='softmax'))\n",
        "\n",
        "optimizer = Adam(lr=0.001)\n",
        "model.compile(optimizer=optimizer, loss='categorical_crossentropy', metrics=['accuracy'])\n",
        "\n",
        "# Train the model\n",
        "model.fit(x, y, batch_size=64, epochs=30)"
      ]
    },
    {
      "cell_type": "code",
      "execution_count": null,
      "metadata": {
        "id": "CGehVN8VozZI",
        "colab": {
          "base_uri": "https://localhost:8080/"
        },
        "outputId": "1b38bf7d-8dd7-4d83-e404-accf782ad77d"
      },
      "outputs": [
        {
          "output_type": "stream",
          "name": "stdout",
          "text": [
            "\n",
            "Generated Text:\n",
            " idea addition game facilitator rule interact\n"
          ]
        }
      ],
      "source": [
        "# Generate text\n",
        "generated_text = generate_text(5,model, 0.5)  # Generate a longer text\n",
        "print('\\nGenerated Text:')\n",
        "print(generated_text)"
      ]
    },
    {
      "cell_type": "code",
      "source": [
        "# Generate text\n",
        "generated_text2 = generate_text(5, model, 0.5)  # Generate a longer text\n",
        "print('\\nGenerated Text:')\n",
        "print(generated_text2)"
      ],
      "metadata": {
        "colab": {
          "base_uri": "https://localhost:8080/"
        },
        "id": "ZvJgnQZ6sM-L",
        "outputId": "67e493f9-fc9c-4bc5-e493-eb8acaa8751e"
      },
      "execution_count": null,
      "outputs": [
        {
          "output_type": "stream",
          "name": "stdout",
          "text": [
            "\n",
            "Generated Text:\n",
            "pport claim video game beneficial brain story\n"
          ]
        }
      ]
    },
    {
      "cell_type": "code",
      "source": [
        "# Generate text\n",
        "generated_text3 = generate_text(5,model, 0.5)  # Generate a longer text\n",
        "print('\\nGenerated Text:')\n",
        "print(generated_text3)"
      ],
      "metadata": {
        "colab": {
          "base_uri": "https://localhost:8080/"
        },
        "id": "Xupj1bifsNmR",
        "outputId": "517e9f04-da85-4f76-f48e-f5e0375c0f42"
      },
      "execution_count": null,
      "outputs": [
        {
          "output_type": "stream",
          "name": "stdout",
          "text": [
            "\n",
            "Generated Text:\n",
            "indicator combination imaging purpose control\n"
          ]
        }
      ]
    },
    {
      "cell_type": "code",
      "source": [
        "heading = Paragraph(f\"Model 5\", styles[\"Heading2\"])\n",
        "text = f\"LSTM + Dense\"\n",
        "para1 = Paragraph(text, styles[\"Normal\"])\n",
        "text = f\"Generated1: {generated_text}\"\n",
        "para2 = Paragraph(text, styles[\"Normal\"])\n",
        "text = f\"Generated2: {generated_text2}\"\n",
        "para3 = Paragraph(text, styles[\"Normal\"])\n",
        "text = f\"Generated3: {generated_text3}\"\n",
        "para4 = Paragraph(text, styles[\"Normal\"])\n",
        "pdf_components += [heading, Spacer(1, 20), para1, Spacer(1, 20), para2, Spacer(1, 20), para3, Spacer(1, 20), para4, Spacer(1, 20)]"
      ],
      "metadata": {
        "id": "VaJVgBy28AaP"
      },
      "execution_count": null,
      "outputs": []
    },
    {
      "cell_type": "code",
      "source": [
        "\n",
        "# Conclusion\n",
        "heading_conclusion = Paragraph(\"Conclusion:\", styles[\"Heading1\"])\n",
        "text_conclusion = (\n",
        "                   \"1. Word Generation:<br/>\"\n",
        "                   \"   - Model 1 (RNN + Dense):  83.7% - This model produces relevant text and good prediction.<br/>\"\n",
        "                   \"   - Model 2 (RNN + RNN + RNN + Dense): 58.9% -  worest model and it's generated words not relevant and doesn't contain any meaning. <br/>\"\n",
        "                   \"   - Model 3 (GRU + Dense):  83.8% <br/>\"\n",
        "                   \"   - Model 4 (RNN + GRU + Dense): 83.6% <br/>\"\n",
        "                   \"   - Model 5 (LSTM + Dense): 82.5% <br/><br/>\"\n",
        "                   \"2. Character Generation:<br/>\"\n",
        "                   \"   ** Note: it predict more than one character <br/>\"\n",
        "                   \"   - Model 1 (RNN + Dense): 81.26% <br/>\"\n",
        "                   \"   - Model 2 (RNN + RNN + RNN + Dense): 79.9% - it's result may be similar for using one layer of RNN <br/>\"\n",
        "                   \"   - Model 3 (GRU + Dense): 99.2% <br/>\"\n",
        "                   \"   - Model 4 (RNN + GRU + Dense): 98.6% <br/>\"\n",
        "                   \"   - Model 5 (LSTM + Dense): 98.9% <br/><br/>\"\n",
        "                   \"generation of words or characters depends on the number of words I will generate in the following generation. The fewer words or characters I generate, the better the result will be. <br/>\"\n",
        "                   \"When comparing the word generation models, Model 1 (RNN + Dense) achieved the highest accuracy of 83.7%. but for Model 2 (RNN + RNN + RNN + Dense) it give worest accuracy .so we note that when we add more layers we get lowest accuracy.<br/>\"\n",
        "                   \"Regarding character generation, both Model 1 (RNN + Dense) and Model 2 (RNN + RNN + RNN + Dense) The accuracies of both models are quite close . <br/>\"\n",
        "                   \"In summary, Model 1 (RNN + Dense) are best model for word and character generation<br/>\"\n",
        "                   )\n",
        "\n",
        "para_conclusion = Paragraph(text_conclusion, styles[\"Normal\"])\n",
        "pdf_components += [heading_conclusion, Spacer(1, 20), para_conclusion]\n",
        "\n",
        "# Build PDF\n",
        "doc.build(pdf_components)"
      ],
      "metadata": {
        "id": "hQUhB9SHAOhM"
      },
      "execution_count": null,
      "outputs": []
    }
  ],
  "metadata": {
    "colab": {
      "provenance": [],
      "gpuType": "V28"
    },
    "kernelspec": {
      "display_name": "Python 3",
      "name": "python3"
    },
    "language_info": {
      "name": "python"
    },
    "accelerator": "TPU"
  },
  "nbformat": 4,
  "nbformat_minor": 0
}